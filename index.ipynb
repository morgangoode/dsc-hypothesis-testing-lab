{
  "cells": [
    {
      "cell_type": "code",
      "source": [
        "# uploading csv and json files for flatiron lesson\n",
        "# source: https://towardsdatascience.com/3-ways-to-load-csv-files-into-colab-7c14fcbdcb92\n",
        "from google.colab import files\n",
        "uploaded = files.upload()"
      ],
      "metadata": {
        "colab": {
          "base_uri": "https://localhost:8080/",
          "height": 73
        },
        "id": "Z89PwGjI8jgF",
        "outputId": "c0ed6deb-c5d2-4619-d54d-a6a756bf3fa6"
      },
      "execution_count": 1,
      "outputs": [
        {
          "output_type": "display_data",
          "data": {
            "text/plain": [
              "<IPython.core.display.HTML object>"
            ],
            "text/html": [
              "\n",
              "     <input type=\"file\" id=\"files-13d51592-5f22-4c78-9399-393849c81500\" name=\"files[]\" multiple disabled\n",
              "        style=\"border:none\" />\n",
              "     <output id=\"result-13d51592-5f22-4c78-9399-393849c81500\">\n",
              "      Upload widget is only available when the cell has been executed in the\n",
              "      current browser session. Please rerun this cell to enable.\n",
              "      </output>\n",
              "      <script>// Copyright 2017 Google LLC\n",
              "//\n",
              "// Licensed under the Apache License, Version 2.0 (the \"License\");\n",
              "// you may not use this file except in compliance with the License.\n",
              "// You may obtain a copy of the License at\n",
              "//\n",
              "//      http://www.apache.org/licenses/LICENSE-2.0\n",
              "//\n",
              "// Unless required by applicable law or agreed to in writing, software\n",
              "// distributed under the License is distributed on an \"AS IS\" BASIS,\n",
              "// WITHOUT WARRANTIES OR CONDITIONS OF ANY KIND, either express or implied.\n",
              "// See the License for the specific language governing permissions and\n",
              "// limitations under the License.\n",
              "\n",
              "/**\n",
              " * @fileoverview Helpers for google.colab Python module.\n",
              " */\n",
              "(function(scope) {\n",
              "function span(text, styleAttributes = {}) {\n",
              "  const element = document.createElement('span');\n",
              "  element.textContent = text;\n",
              "  for (const key of Object.keys(styleAttributes)) {\n",
              "    element.style[key] = styleAttributes[key];\n",
              "  }\n",
              "  return element;\n",
              "}\n",
              "\n",
              "// Max number of bytes which will be uploaded at a time.\n",
              "const MAX_PAYLOAD_SIZE = 100 * 1024;\n",
              "\n",
              "function _uploadFiles(inputId, outputId) {\n",
              "  const steps = uploadFilesStep(inputId, outputId);\n",
              "  const outputElement = document.getElementById(outputId);\n",
              "  // Cache steps on the outputElement to make it available for the next call\n",
              "  // to uploadFilesContinue from Python.\n",
              "  outputElement.steps = steps;\n",
              "\n",
              "  return _uploadFilesContinue(outputId);\n",
              "}\n",
              "\n",
              "// This is roughly an async generator (not supported in the browser yet),\n",
              "// where there are multiple asynchronous steps and the Python side is going\n",
              "// to poll for completion of each step.\n",
              "// This uses a Promise to block the python side on completion of each step,\n",
              "// then passes the result of the previous step as the input to the next step.\n",
              "function _uploadFilesContinue(outputId) {\n",
              "  const outputElement = document.getElementById(outputId);\n",
              "  const steps = outputElement.steps;\n",
              "\n",
              "  const next = steps.next(outputElement.lastPromiseValue);\n",
              "  return Promise.resolve(next.value.promise).then((value) => {\n",
              "    // Cache the last promise value to make it available to the next\n",
              "    // step of the generator.\n",
              "    outputElement.lastPromiseValue = value;\n",
              "    return next.value.response;\n",
              "  });\n",
              "}\n",
              "\n",
              "/**\n",
              " * Generator function which is called between each async step of the upload\n",
              " * process.\n",
              " * @param {string} inputId Element ID of the input file picker element.\n",
              " * @param {string} outputId Element ID of the output display.\n",
              " * @return {!Iterable<!Object>} Iterable of next steps.\n",
              " */\n",
              "function* uploadFilesStep(inputId, outputId) {\n",
              "  const inputElement = document.getElementById(inputId);\n",
              "  inputElement.disabled = false;\n",
              "\n",
              "  const outputElement = document.getElementById(outputId);\n",
              "  outputElement.innerHTML = '';\n",
              "\n",
              "  const pickedPromise = new Promise((resolve) => {\n",
              "    inputElement.addEventListener('change', (e) => {\n",
              "      resolve(e.target.files);\n",
              "    });\n",
              "  });\n",
              "\n",
              "  const cancel = document.createElement('button');\n",
              "  inputElement.parentElement.appendChild(cancel);\n",
              "  cancel.textContent = 'Cancel upload';\n",
              "  const cancelPromise = new Promise((resolve) => {\n",
              "    cancel.onclick = () => {\n",
              "      resolve(null);\n",
              "    };\n",
              "  });\n",
              "\n",
              "  // Wait for the user to pick the files.\n",
              "  const files = yield {\n",
              "    promise: Promise.race([pickedPromise, cancelPromise]),\n",
              "    response: {\n",
              "      action: 'starting',\n",
              "    }\n",
              "  };\n",
              "\n",
              "  cancel.remove();\n",
              "\n",
              "  // Disable the input element since further picks are not allowed.\n",
              "  inputElement.disabled = true;\n",
              "\n",
              "  if (!files) {\n",
              "    return {\n",
              "      response: {\n",
              "        action: 'complete',\n",
              "      }\n",
              "    };\n",
              "  }\n",
              "\n",
              "  for (const file of files) {\n",
              "    const li = document.createElement('li');\n",
              "    li.append(span(file.name, {fontWeight: 'bold'}));\n",
              "    li.append(span(\n",
              "        `(${file.type || 'n/a'}) - ${file.size} bytes, ` +\n",
              "        `last modified: ${\n",
              "            file.lastModifiedDate ? file.lastModifiedDate.toLocaleDateString() :\n",
              "                                    'n/a'} - `));\n",
              "    const percent = span('0% done');\n",
              "    li.appendChild(percent);\n",
              "\n",
              "    outputElement.appendChild(li);\n",
              "\n",
              "    const fileDataPromise = new Promise((resolve) => {\n",
              "      const reader = new FileReader();\n",
              "      reader.onload = (e) => {\n",
              "        resolve(e.target.result);\n",
              "      };\n",
              "      reader.readAsArrayBuffer(file);\n",
              "    });\n",
              "    // Wait for the data to be ready.\n",
              "    let fileData = yield {\n",
              "      promise: fileDataPromise,\n",
              "      response: {\n",
              "        action: 'continue',\n",
              "      }\n",
              "    };\n",
              "\n",
              "    // Use a chunked sending to avoid message size limits. See b/62115660.\n",
              "    let position = 0;\n",
              "    do {\n",
              "      const length = Math.min(fileData.byteLength - position, MAX_PAYLOAD_SIZE);\n",
              "      const chunk = new Uint8Array(fileData, position, length);\n",
              "      position += length;\n",
              "\n",
              "      const base64 = btoa(String.fromCharCode.apply(null, chunk));\n",
              "      yield {\n",
              "        response: {\n",
              "          action: 'append',\n",
              "          file: file.name,\n",
              "          data: base64,\n",
              "        },\n",
              "      };\n",
              "\n",
              "      let percentDone = fileData.byteLength === 0 ?\n",
              "          100 :\n",
              "          Math.round((position / fileData.byteLength) * 100);\n",
              "      percent.textContent = `${percentDone}% done`;\n",
              "\n",
              "    } while (position < fileData.byteLength);\n",
              "  }\n",
              "\n",
              "  // All done.\n",
              "  yield {\n",
              "    response: {\n",
              "      action: 'complete',\n",
              "    }\n",
              "  };\n",
              "}\n",
              "\n",
              "scope.google = scope.google || {};\n",
              "scope.google.colab = scope.google.colab || {};\n",
              "scope.google.colab._files = {\n",
              "  _uploadFiles,\n",
              "  _uploadFilesContinue,\n",
              "};\n",
              "})(self);\n",
              "</script> "
            ]
          },
          "metadata": {}
        },
        {
          "output_type": "stream",
          "name": "stdout",
          "text": [
            "Saving case_study.csv to case_study.csv\n"
          ]
        }
      ]
    },
    {
      "cell_type": "markdown",
      "metadata": {
        "id": "nKGfw_2s8OBW"
      },
      "source": [
        "# Hypothesis Testing - Cumulative Lab\n",
        "\n",
        "## Introduction\n",
        "\n",
        "In this cumulative lab, you will use pandas to clean up a dataset and perform some EDA, then perform statistical tests and interpret their results in order to answer some business questions.\n",
        "\n",
        "## Objectives\n",
        "\n",
        "You will be able to:\n",
        "\n",
        "* Practice using a data dictionary\n",
        "* Practice using pandas to prepare data for statistical analysis\n",
        "* Practice identifying an appropriate statistical test for a given question\n",
        "* Practice defining the null and alternative hypotheses\n",
        "* Practice executing statistical tests and interpreting their results"
      ]
    },
    {
      "cell_type": "markdown",
      "metadata": {
        "id": "oMQnHA0W8OBd"
      },
      "source": [
        "## Your Task: Analyzing Health Trends\n",
        "\n",
        "![tissues and tea mug](images/sick_day.jpg)\n",
        "\n",
        "Photo by <a href=\"https://unsplash.com/@kellysikkema?utm_source=unsplash&utm_medium=referral&utm_content=creditCopyText\">Kelly Sikkema</a> on <a href=\"/?utm_source=unsplash&utm_medium=referral&utm_content=creditCopyText\">Unsplash</a>"
      ]
    },
    {
      "cell_type": "markdown",
      "metadata": {
        "id": "nR_nLQJx8OBd"
      },
      "source": [
        "### Business Understanding\n",
        "\n",
        "Flatiron Health Insurance (FHI) is a growing private healthcare insurance provider founded on the premise that using data and analytics can improve the health insurance industry by providing better care and offerings to its patients. Every year, the Center for Disease Control (CDC) conducts surveys to understand the latest demographic, health, and fitness trends. You have been tasked with analyzing the recently published results of the 2017-2018 survey and providing your recommendations back to the Chief Analytics Officer and Chief Marketing Officer. You have been assigned the task of taking a first look at the data and beginning to answer several key questions:\n",
        "\n",
        "1. How does health status, represented by average number of days with bad physical health in the past month (`PHYSHLTH`), differ by state?\n",
        "2. Digging deeper into the data, what are some factors that impact health (demographics, behaviors, etc.)?\n",
        "\n",
        "### Data Understanding\n",
        "\n",
        "To get you started, the IT department formatted the data set into a tab delimited text file for only NY, NJ, and CT (FHI’s primary markets) called `case_study.csv`.\n",
        "\n",
        "There is also a PDF data dictionary called `data_dictionary.pdf`, which explains the meanings of the features and codes contained in this dataset.\n",
        "\n",
        "Both files are located in the `data/` directory of this repository.\n",
        "\n",
        "Prior to each statistical test, you will need to perform some data preparation, which could include:\n",
        "\n",
        "* Filtering out rows with irrelevant values\n",
        "* Transforming data from codes into human-readable values\n",
        "* Binning data to transform it from numeric to categorical\n",
        "* Creating new columns based on queries of the values in other columns\n",
        "\n",
        "For steps 2-5, you will need to select and execute an appropriate statistical test. Recall these tests we have learned so far:\n",
        "\n",
        "1. [Chi-squared test](https://docs.scipy.org/doc/scipy/reference/generated/scipy.stats.chi2_contingency.html): used for comparing a categorical feature against a categorical feature, to determine whether they are independent\n",
        "2. [t-test](https://docs.scipy.org/doc/scipy/reference/generated/scipy.stats.ttest_ind.html): used for comparing two categories of a numeric feature, to determine whether their means are the same across categories\n",
        "3. [ANOVA](https://www.statsmodels.org/stable/generated/statsmodels.stats.anova.anova_lm.html#statsmodels.stats.anova.anova_lm): used for comparing more than two categories of a numeric feature, to determine whether their means are the same across categories"
      ]
    },
    {
      "cell_type": "markdown",
      "metadata": {
        "id": "QZtABCT_8OBe"
      },
      "source": [
        "### Requirements\n",
        "\n",
        "#### 1. Prepare `PHYSHLTH` Data for Analysis\n",
        "\n",
        "Using the data dictionary, ensure that you understand the meaning of the `PHYSHLTH` column. Then clean the data so that only valid records of `PHYSHLTH` remain.\n",
        "\n",
        "#### 2. Describe the Distribution of Health Status by State\n",
        "\n",
        "Does health status (`PHYSHLTH`) differ by state (`STATE_`)? If so, by how much, and is it statistically significant?\n",
        "\n",
        "#### 3. Describe the Relationship between Health Status and Home Ownership Status\n",
        "\n",
        "Does health status (`PHYSHLTH`) differ between home owners and renters (`RENTHOM1`)? If so, by how much, and is it statistically significant?\n",
        "\n",
        "#### 4. Describe the Relationship between Chronic Sickness and Nicotine Use\n",
        "\n",
        "Does chronic sickness (`PHYSHLTH >= 15`) differ based on nicotine use (various columns)? If so, by how much, and is it statistically significant?\n",
        "\n",
        "#### 5. Choose Your Own Question\n",
        "\n",
        "Thinking about the business case, what is another question that might be useful to answer? Perform all analysis steps to answer this question."
      ]
    },
    {
      "cell_type": "markdown",
      "metadata": {
        "id": "45lwilZN8OBe"
      },
      "source": [
        "## 1. Prepare `PHYSHLTH` Data for Analysis\n",
        "\n",
        "In the cells below, we include the relevant imports and load the data into a dataframe called `df`:"
      ]
    },
    {
      "cell_type": "code",
      "execution_count": 2,
      "metadata": {
        "id": "XRW6yFbz8OBf"
      },
      "outputs": [],
      "source": [
        "# Run this cell without changes\n",
        "import pandas as pd\n",
        "import matplotlib.pyplot as plt\n",
        "import numpy as np\n",
        "%matplotlib inline"
      ]
    },
    {
      "cell_type": "code",
      "execution_count": 3,
      "metadata": {
        "colab": {
          "base_uri": "https://localhost:8080/",
          "height": 487
        },
        "id": "VN-VGNll8OBf",
        "outputId": "a3f74f98-6388-471c-d606-5fd0e0bda81f"
      },
      "outputs": [
        {
          "output_type": "execute_result",
          "data": {
            "text/plain": [
              "        _STATE  FMONTH    IDATE  IMONTH  IDAY  IYEAR  DISPCODE       SEQNO  \\\n",
              "49938      9.0     5.0  5172017       5    17   2017    1200.0  2017000001   \n",
              "49939      9.0     2.0  2142017       2    14   2017    1200.0  2017000002   \n",
              "49940      9.0     1.0  1292017       1    29   2017    1200.0  2017000003   \n",
              "49941      9.0     7.0  9112017       9    11   2017    1200.0  2017000004   \n",
              "49942      9.0     5.0  7182017       7    18   2017    1200.0  2017000005   \n",
              "...        ...     ...      ...     ...   ...    ...       ...         ...   \n",
              "303774    36.0     5.0  5152017       5    15   2017    1200.0  2017012245   \n",
              "303775    36.0     6.0  6252017       6    25   2017    1200.0  2017012246   \n",
              "303776    36.0     7.0  7212017       7    21   2017    1200.0  2017012247   \n",
              "303777    36.0     7.0  7202017       7    20   2017    1200.0  2017012248   \n",
              "303778    36.0     7.0  7252017       7    25   2017    1200.0  2017012249   \n",
              "\n",
              "                _PSU  CTELENM1  ...  _PA300R2  _PA30021  _PASTRNG  _PAREC1  \\\n",
              "49938   2.017000e+09       NaN  ...       2.0       2.0       2.0      4.0   \n",
              "49939   2.017000e+09       NaN  ...       1.0       1.0       1.0      1.0   \n",
              "49940   2.017000e+09       NaN  ...       3.0       2.0       1.0      3.0   \n",
              "49941   2.017000e+09       NaN  ...       2.0       2.0       2.0      2.0   \n",
              "49942   2.017000e+09       NaN  ...       2.0       2.0       1.0      1.0   \n",
              "...              ...       ...  ...       ...       ...       ...      ...   \n",
              "303774  2.017012e+09       NaN  ...       3.0       2.0       2.0      4.0   \n",
              "303775  2.017012e+09       NaN  ...       2.0       2.0       2.0      4.0   \n",
              "303776  2.017012e+09       NaN  ...       2.0       2.0       2.0      4.0   \n",
              "303777  2.017012e+09       NaN  ...       9.0       9.0       9.0      9.0   \n",
              "303778  2.017012e+09       NaN  ...       3.0       2.0       2.0      4.0   \n",
              "\n",
              "        _PASTAE1  _RFSEAT2  _RFSEAT3  _FLSHOT6  _PNEUMO2  _AIDTST3  \n",
              "49938        2.0       1.0       1.0       NaN       NaN       1.0  \n",
              "49939        1.0       2.0       2.0       NaN       NaN       2.0  \n",
              "49940        2.0       1.0       1.0       NaN       NaN       2.0  \n",
              "49941        2.0       1.0       1.0       NaN       NaN       1.0  \n",
              "49942        1.0       1.0       1.0       NaN       NaN       2.0  \n",
              "...          ...       ...       ...       ...       ...       ...  \n",
              "303774       2.0       1.0       1.0       NaN       NaN       1.0  \n",
              "303775       2.0       1.0       1.0       NaN       NaN       1.0  \n",
              "303776       2.0       1.0       1.0       NaN       NaN       1.0  \n",
              "303777       9.0       9.0       9.0       9.0       9.0       9.0  \n",
              "303778       2.0       1.0       1.0       NaN       NaN       1.0  \n",
              "\n",
              "[34545 rows x 358 columns]"
            ],
            "text/html": [
              "\n",
              "  <div id=\"df-f2bb2d15-4a0a-42df-8f6c-b210651b4c72\">\n",
              "    <div class=\"colab-df-container\">\n",
              "      <div>\n",
              "<style scoped>\n",
              "    .dataframe tbody tr th:only-of-type {\n",
              "        vertical-align: middle;\n",
              "    }\n",
              "\n",
              "    .dataframe tbody tr th {\n",
              "        vertical-align: top;\n",
              "    }\n",
              "\n",
              "    .dataframe thead th {\n",
              "        text-align: right;\n",
              "    }\n",
              "</style>\n",
              "<table border=\"1\" class=\"dataframe\">\n",
              "  <thead>\n",
              "    <tr style=\"text-align: right;\">\n",
              "      <th></th>\n",
              "      <th>_STATE</th>\n",
              "      <th>FMONTH</th>\n",
              "      <th>IDATE</th>\n",
              "      <th>IMONTH</th>\n",
              "      <th>IDAY</th>\n",
              "      <th>IYEAR</th>\n",
              "      <th>DISPCODE</th>\n",
              "      <th>SEQNO</th>\n",
              "      <th>_PSU</th>\n",
              "      <th>CTELENM1</th>\n",
              "      <th>...</th>\n",
              "      <th>_PA300R2</th>\n",
              "      <th>_PA30021</th>\n",
              "      <th>_PASTRNG</th>\n",
              "      <th>_PAREC1</th>\n",
              "      <th>_PASTAE1</th>\n",
              "      <th>_RFSEAT2</th>\n",
              "      <th>_RFSEAT3</th>\n",
              "      <th>_FLSHOT6</th>\n",
              "      <th>_PNEUMO2</th>\n",
              "      <th>_AIDTST3</th>\n",
              "    </tr>\n",
              "  </thead>\n",
              "  <tbody>\n",
              "    <tr>\n",
              "      <th>49938</th>\n",
              "      <td>9.0</td>\n",
              "      <td>5.0</td>\n",
              "      <td>5172017</td>\n",
              "      <td>5</td>\n",
              "      <td>17</td>\n",
              "      <td>2017</td>\n",
              "      <td>1200.0</td>\n",
              "      <td>2017000001</td>\n",
              "      <td>2.017000e+09</td>\n",
              "      <td>NaN</td>\n",
              "      <td>...</td>\n",
              "      <td>2.0</td>\n",
              "      <td>2.0</td>\n",
              "      <td>2.0</td>\n",
              "      <td>4.0</td>\n",
              "      <td>2.0</td>\n",
              "      <td>1.0</td>\n",
              "      <td>1.0</td>\n",
              "      <td>NaN</td>\n",
              "      <td>NaN</td>\n",
              "      <td>1.0</td>\n",
              "    </tr>\n",
              "    <tr>\n",
              "      <th>49939</th>\n",
              "      <td>9.0</td>\n",
              "      <td>2.0</td>\n",
              "      <td>2142017</td>\n",
              "      <td>2</td>\n",
              "      <td>14</td>\n",
              "      <td>2017</td>\n",
              "      <td>1200.0</td>\n",
              "      <td>2017000002</td>\n",
              "      <td>2.017000e+09</td>\n",
              "      <td>NaN</td>\n",
              "      <td>...</td>\n",
              "      <td>1.0</td>\n",
              "      <td>1.0</td>\n",
              "      <td>1.0</td>\n",
              "      <td>1.0</td>\n",
              "      <td>1.0</td>\n",
              "      <td>2.0</td>\n",
              "      <td>2.0</td>\n",
              "      <td>NaN</td>\n",
              "      <td>NaN</td>\n",
              "      <td>2.0</td>\n",
              "    </tr>\n",
              "    <tr>\n",
              "      <th>49940</th>\n",
              "      <td>9.0</td>\n",
              "      <td>1.0</td>\n",
              "      <td>1292017</td>\n",
              "      <td>1</td>\n",
              "      <td>29</td>\n",
              "      <td>2017</td>\n",
              "      <td>1200.0</td>\n",
              "      <td>2017000003</td>\n",
              "      <td>2.017000e+09</td>\n",
              "      <td>NaN</td>\n",
              "      <td>...</td>\n",
              "      <td>3.0</td>\n",
              "      <td>2.0</td>\n",
              "      <td>1.0</td>\n",
              "      <td>3.0</td>\n",
              "      <td>2.0</td>\n",
              "      <td>1.0</td>\n",
              "      <td>1.0</td>\n",
              "      <td>NaN</td>\n",
              "      <td>NaN</td>\n",
              "      <td>2.0</td>\n",
              "    </tr>\n",
              "    <tr>\n",
              "      <th>49941</th>\n",
              "      <td>9.0</td>\n",
              "      <td>7.0</td>\n",
              "      <td>9112017</td>\n",
              "      <td>9</td>\n",
              "      <td>11</td>\n",
              "      <td>2017</td>\n",
              "      <td>1200.0</td>\n",
              "      <td>2017000004</td>\n",
              "      <td>2.017000e+09</td>\n",
              "      <td>NaN</td>\n",
              "      <td>...</td>\n",
              "      <td>2.0</td>\n",
              "      <td>2.0</td>\n",
              "      <td>2.0</td>\n",
              "      <td>2.0</td>\n",
              "      <td>2.0</td>\n",
              "      <td>1.0</td>\n",
              "      <td>1.0</td>\n",
              "      <td>NaN</td>\n",
              "      <td>NaN</td>\n",
              "      <td>1.0</td>\n",
              "    </tr>\n",
              "    <tr>\n",
              "      <th>49942</th>\n",
              "      <td>9.0</td>\n",
              "      <td>5.0</td>\n",
              "      <td>7182017</td>\n",
              "      <td>7</td>\n",
              "      <td>18</td>\n",
              "      <td>2017</td>\n",
              "      <td>1200.0</td>\n",
              "      <td>2017000005</td>\n",
              "      <td>2.017000e+09</td>\n",
              "      <td>NaN</td>\n",
              "      <td>...</td>\n",
              "      <td>2.0</td>\n",
              "      <td>2.0</td>\n",
              "      <td>1.0</td>\n",
              "      <td>1.0</td>\n",
              "      <td>1.0</td>\n",
              "      <td>1.0</td>\n",
              "      <td>1.0</td>\n",
              "      <td>NaN</td>\n",
              "      <td>NaN</td>\n",
              "      <td>2.0</td>\n",
              "    </tr>\n",
              "    <tr>\n",
              "      <th>...</th>\n",
              "      <td>...</td>\n",
              "      <td>...</td>\n",
              "      <td>...</td>\n",
              "      <td>...</td>\n",
              "      <td>...</td>\n",
              "      <td>...</td>\n",
              "      <td>...</td>\n",
              "      <td>...</td>\n",
              "      <td>...</td>\n",
              "      <td>...</td>\n",
              "      <td>...</td>\n",
              "      <td>...</td>\n",
              "      <td>...</td>\n",
              "      <td>...</td>\n",
              "      <td>...</td>\n",
              "      <td>...</td>\n",
              "      <td>...</td>\n",
              "      <td>...</td>\n",
              "      <td>...</td>\n",
              "      <td>...</td>\n",
              "      <td>...</td>\n",
              "    </tr>\n",
              "    <tr>\n",
              "      <th>303774</th>\n",
              "      <td>36.0</td>\n",
              "      <td>5.0</td>\n",
              "      <td>5152017</td>\n",
              "      <td>5</td>\n",
              "      <td>15</td>\n",
              "      <td>2017</td>\n",
              "      <td>1200.0</td>\n",
              "      <td>2017012245</td>\n",
              "      <td>2.017012e+09</td>\n",
              "      <td>NaN</td>\n",
              "      <td>...</td>\n",
              "      <td>3.0</td>\n",
              "      <td>2.0</td>\n",
              "      <td>2.0</td>\n",
              "      <td>4.0</td>\n",
              "      <td>2.0</td>\n",
              "      <td>1.0</td>\n",
              "      <td>1.0</td>\n",
              "      <td>NaN</td>\n",
              "      <td>NaN</td>\n",
              "      <td>1.0</td>\n",
              "    </tr>\n",
              "    <tr>\n",
              "      <th>303775</th>\n",
              "      <td>36.0</td>\n",
              "      <td>6.0</td>\n",
              "      <td>6252017</td>\n",
              "      <td>6</td>\n",
              "      <td>25</td>\n",
              "      <td>2017</td>\n",
              "      <td>1200.0</td>\n",
              "      <td>2017012246</td>\n",
              "      <td>2.017012e+09</td>\n",
              "      <td>NaN</td>\n",
              "      <td>...</td>\n",
              "      <td>2.0</td>\n",
              "      <td>2.0</td>\n",
              "      <td>2.0</td>\n",
              "      <td>4.0</td>\n",
              "      <td>2.0</td>\n",
              "      <td>1.0</td>\n",
              "      <td>1.0</td>\n",
              "      <td>NaN</td>\n",
              "      <td>NaN</td>\n",
              "      <td>1.0</td>\n",
              "    </tr>\n",
              "    <tr>\n",
              "      <th>303776</th>\n",
              "      <td>36.0</td>\n",
              "      <td>7.0</td>\n",
              "      <td>7212017</td>\n",
              "      <td>7</td>\n",
              "      <td>21</td>\n",
              "      <td>2017</td>\n",
              "      <td>1200.0</td>\n",
              "      <td>2017012247</td>\n",
              "      <td>2.017012e+09</td>\n",
              "      <td>NaN</td>\n",
              "      <td>...</td>\n",
              "      <td>2.0</td>\n",
              "      <td>2.0</td>\n",
              "      <td>2.0</td>\n",
              "      <td>4.0</td>\n",
              "      <td>2.0</td>\n",
              "      <td>1.0</td>\n",
              "      <td>1.0</td>\n",
              "      <td>NaN</td>\n",
              "      <td>NaN</td>\n",
              "      <td>1.0</td>\n",
              "    </tr>\n",
              "    <tr>\n",
              "      <th>303777</th>\n",
              "      <td>36.0</td>\n",
              "      <td>7.0</td>\n",
              "      <td>7202017</td>\n",
              "      <td>7</td>\n",
              "      <td>20</td>\n",
              "      <td>2017</td>\n",
              "      <td>1200.0</td>\n",
              "      <td>2017012248</td>\n",
              "      <td>2.017012e+09</td>\n",
              "      <td>NaN</td>\n",
              "      <td>...</td>\n",
              "      <td>9.0</td>\n",
              "      <td>9.0</td>\n",
              "      <td>9.0</td>\n",
              "      <td>9.0</td>\n",
              "      <td>9.0</td>\n",
              "      <td>9.0</td>\n",
              "      <td>9.0</td>\n",
              "      <td>9.0</td>\n",
              "      <td>9.0</td>\n",
              "      <td>9.0</td>\n",
              "    </tr>\n",
              "    <tr>\n",
              "      <th>303778</th>\n",
              "      <td>36.0</td>\n",
              "      <td>7.0</td>\n",
              "      <td>7252017</td>\n",
              "      <td>7</td>\n",
              "      <td>25</td>\n",
              "      <td>2017</td>\n",
              "      <td>1200.0</td>\n",
              "      <td>2017012249</td>\n",
              "      <td>2.017012e+09</td>\n",
              "      <td>NaN</td>\n",
              "      <td>...</td>\n",
              "      <td>3.0</td>\n",
              "      <td>2.0</td>\n",
              "      <td>2.0</td>\n",
              "      <td>4.0</td>\n",
              "      <td>2.0</td>\n",
              "      <td>1.0</td>\n",
              "      <td>1.0</td>\n",
              "      <td>NaN</td>\n",
              "      <td>NaN</td>\n",
              "      <td>1.0</td>\n",
              "    </tr>\n",
              "  </tbody>\n",
              "</table>\n",
              "<p>34545 rows × 358 columns</p>\n",
              "</div>\n",
              "      <button class=\"colab-df-convert\" onclick=\"convertToInteractive('df-f2bb2d15-4a0a-42df-8f6c-b210651b4c72')\"\n",
              "              title=\"Convert this dataframe to an interactive table.\"\n",
              "              style=\"display:none;\">\n",
              "        \n",
              "  <svg xmlns=\"http://www.w3.org/2000/svg\" height=\"24px\"viewBox=\"0 0 24 24\"\n",
              "       width=\"24px\">\n",
              "    <path d=\"M0 0h24v24H0V0z\" fill=\"none\"/>\n",
              "    <path d=\"M18.56 5.44l.94 2.06.94-2.06 2.06-.94-2.06-.94-.94-2.06-.94 2.06-2.06.94zm-11 1L8.5 8.5l.94-2.06 2.06-.94-2.06-.94L8.5 2.5l-.94 2.06-2.06.94zm10 10l.94 2.06.94-2.06 2.06-.94-2.06-.94-.94-2.06-.94 2.06-2.06.94z\"/><path d=\"M17.41 7.96l-1.37-1.37c-.4-.4-.92-.59-1.43-.59-.52 0-1.04.2-1.43.59L10.3 9.45l-7.72 7.72c-.78.78-.78 2.05 0 2.83L4 21.41c.39.39.9.59 1.41.59.51 0 1.02-.2 1.41-.59l7.78-7.78 2.81-2.81c.8-.78.8-2.07 0-2.86zM5.41 20L4 18.59l7.72-7.72 1.47 1.35L5.41 20z\"/>\n",
              "  </svg>\n",
              "      </button>\n",
              "      \n",
              "  <style>\n",
              "    .colab-df-container {\n",
              "      display:flex;\n",
              "      flex-wrap:wrap;\n",
              "      gap: 12px;\n",
              "    }\n",
              "\n",
              "    .colab-df-convert {\n",
              "      background-color: #E8F0FE;\n",
              "      border: none;\n",
              "      border-radius: 50%;\n",
              "      cursor: pointer;\n",
              "      display: none;\n",
              "      fill: #1967D2;\n",
              "      height: 32px;\n",
              "      padding: 0 0 0 0;\n",
              "      width: 32px;\n",
              "    }\n",
              "\n",
              "    .colab-df-convert:hover {\n",
              "      background-color: #E2EBFA;\n",
              "      box-shadow: 0px 1px 2px rgba(60, 64, 67, 0.3), 0px 1px 3px 1px rgba(60, 64, 67, 0.15);\n",
              "      fill: #174EA6;\n",
              "    }\n",
              "\n",
              "    [theme=dark] .colab-df-convert {\n",
              "      background-color: #3B4455;\n",
              "      fill: #D2E3FC;\n",
              "    }\n",
              "\n",
              "    [theme=dark] .colab-df-convert:hover {\n",
              "      background-color: #434B5C;\n",
              "      box-shadow: 0px 1px 3px 1px rgba(0, 0, 0, 0.15);\n",
              "      filter: drop-shadow(0px 1px 2px rgba(0, 0, 0, 0.3));\n",
              "      fill: #FFFFFF;\n",
              "    }\n",
              "  </style>\n",
              "\n",
              "      <script>\n",
              "        const buttonEl =\n",
              "          document.querySelector('#df-f2bb2d15-4a0a-42df-8f6c-b210651b4c72 button.colab-df-convert');\n",
              "        buttonEl.style.display =\n",
              "          google.colab.kernel.accessAllowed ? 'block' : 'none';\n",
              "\n",
              "        async function convertToInteractive(key) {\n",
              "          const element = document.querySelector('#df-f2bb2d15-4a0a-42df-8f6c-b210651b4c72');\n",
              "          const dataTable =\n",
              "            await google.colab.kernel.invokeFunction('convertToInteractive',\n",
              "                                                     [key], {});\n",
              "          if (!dataTable) return;\n",
              "\n",
              "          const docLinkHtml = 'Like what you see? Visit the ' +\n",
              "            '<a target=\"_blank\" href=https://colab.research.google.com/notebooks/data_table.ipynb>data table notebook</a>'\n",
              "            + ' to learn more about interactive tables.';\n",
              "          element.innerHTML = '';\n",
              "          dataTable['output_type'] = 'display_data';\n",
              "          await google.colab.output.renderOutput(dataTable, element);\n",
              "          const docLink = document.createElement('div');\n",
              "          docLink.innerHTML = docLinkHtml;\n",
              "          element.appendChild(docLink);\n",
              "        }\n",
              "      </script>\n",
              "    </div>\n",
              "  </div>\n",
              "  "
            ]
          },
          "metadata": {},
          "execution_count": 3
        }
      ],
      "source": [
        "# Run this cell without changes\n",
        "df = pd.read_csv(\"case_study.csv\", index_col=0, low_memory=False)\n",
        "df"
      ]
    },
    {
      "cell_type": "markdown",
      "metadata": {
        "id": "i4Z3qg0m8OBg"
      },
      "source": [
        "Our main column of interest is called `PHYSHLTH`. We display summary statistics and plot a distribution below:"
      ]
    },
    {
      "cell_type": "code",
      "execution_count": 4,
      "metadata": {
        "colab": {
          "base_uri": "https://localhost:8080/"
        },
        "id": "cZkLJytt8OBg",
        "outputId": "c614b9f1-b1f1-4b24-8059-b5ff41f67a14"
      },
      "outputs": [
        {
          "output_type": "execute_result",
          "data": {
            "text/plain": [
              "count    34545.000000\n",
              "mean        60.213403\n",
              "std         37.504566\n",
              "min          1.000000\n",
              "25%         15.000000\n",
              "50%         88.000000\n",
              "75%         88.000000\n",
              "max         99.000000\n",
              "Name: PHYSHLTH, dtype: float64"
            ]
          },
          "metadata": {},
          "execution_count": 4
        }
      ],
      "source": [
        "# Run this cell without changes\n",
        "df['PHYSHLTH'].describe()"
      ]
    },
    {
      "cell_type": "code",
      "execution_count": 5,
      "metadata": {
        "colab": {
          "base_uri": "https://localhost:8080/",
          "height": 472
        },
        "id": "MxUuxxOC8OBg",
        "outputId": "f26c3733-c99a-4c11-b5a6-eb88a03f1035"
      },
      "outputs": [
        {
          "output_type": "display_data",
          "data": {
            "text/plain": [
              "<Figure size 640x480 with 1 Axes>"
            ],
            "image/png": "[encoded data removed]"
          },
          "metadata": {}
        }
      ],
      "source": [
        "# Run this cell without changes\n",
        "fig, ax = plt.subplots()\n",
        "ax.hist(df[\"PHYSHLTH\"], bins=\"auto\")\n",
        "ax.set_xlabel(\"PHYSHLTH\")\n",
        "ax.set_ylabel(\"Count\")\n",
        "ax.set_title(\"Distribution of PHYSHLTH in Raw Data\");"
      ]
    },
    {
      "cell_type": "markdown",
      "metadata": {
        "id": "jHrPxthy8OBg"
      },
      "source": [
        "This feature is supposed to represent the number of days with bad physical health out of the past 30 days. Do you see anything wrong with what is displayed above? Explain."
      ]
    },
    {
      "cell_type": "code",
      "execution_count": null,
      "metadata": {
        "id": "wbyn7G7v8OBg"
      },
      "outputs": [],
      "source": [
        "# Replace None with appropriate text\n",
        "\"\"\"\n",
        "Looking at the data dictionary it would seem the numeric\n",
        "variables are meant to be used as codes and not number of days.\n",
        "Therefore, this barchart does not accurately represent the data.\n",
        "\"\"\""
      ]
    },
    {
      "cell_type": "markdown",
      "metadata": {
        "id": "b5Zg7Iad8OBg"
      },
      "source": [
        "Look in the data dictionary, page 17, to understand what is happening with these values. Then edit the cell below so:\n",
        "\n",
        "* The records where the `PHYSHLTH` value label is `None` are converted to 0\n",
        "* The records where the `PHYSHLTH` value label is `Number of days` are kept as-is\n",
        "* All other records are dropped (i.e. records with `Don't know/Not sure`, `Refused`, and `Not asked or Missing` value labels for `PHYSHLTH` are dropped)"
      ]
    },
    {
      "cell_type": "code",
      "source": [
        "# Syntax: df.loc[ df[“column_name”] == “some_value”, “column_name”] = “value”"
      ],
      "metadata": {
        "id": "dbmWDZK8Jz59"
      },
      "execution_count": null,
      "outputs": []
    },
    {
      "cell_type": "code",
      "source": [
        "df_copy = df.copy()"
      ],
      "metadata": {
        "id": "Z8CELDCPKfQL"
      },
      "execution_count": 6,
      "outputs": []
    },
    {
      "cell_type": "code",
      "execution_count": 7,
      "metadata": {
        "id": "T7MuUj4s8OBg"
      },
      "outputs": [],
      "source": [
        "# Your code here\n",
        "df.loc[df['PHYSHLTH'] == 88, 'PHYSHLTH' ] = 0"
      ]
    },
    {
      "cell_type": "code",
      "source": [
        "df['PHYSHLTH']"
      ],
      "metadata": {
        "colab": {
          "base_uri": "https://localhost:8080/"
        },
        "id": "7eeHjpHzKsD7",
        "outputId": "c4c341ab-ee70-4b7c-ef68-c3370202876c"
      },
      "execution_count": 8,
      "outputs": [
        {
          "output_type": "execute_result",
          "data": {
            "text/plain": [
              "49938     0.0\n",
              "49939     0.0\n",
              "49940     2.0\n",
              "49941     0.0\n",
              "49942     0.0\n",
              "         ... \n",
              "303774    0.0\n",
              "303775    0.0\n",
              "303776    6.0\n",
              "303777    0.0\n",
              "303778    0.0\n",
              "Name: PHYSHLTH, Length: 34545, dtype: float64"
            ]
          },
          "metadata": {},
          "execution_count": 8
        }
      ]
    },
    {
      "cell_type": "code",
      "source": [
        "df = df.loc[df['PHYSHLTH'] < 31]"
      ],
      "metadata": {
        "id": "SNEwZKhxK7dP"
      },
      "execution_count": 9,
      "outputs": []
    },
    {
      "cell_type": "code",
      "source": [
        "df.nunique()"
      ],
      "metadata": {
        "colab": {
          "base_uri": "https://localhost:8080/"
        },
        "id": "vOsWPKkSMFUB",
        "outputId": "415ceedd-a9c8-4996-c8da-e7ba6089c433"
      },
      "execution_count": 10,
      "outputs": [
        {
          "output_type": "execute_result",
          "data": {
            "text/plain": [
              "_STATE        3\n",
              "FMONTH       12\n",
              "IDATE       373\n",
              "IMONTH       12\n",
              "IDAY         31\n",
              "           ... \n",
              "_RFSEAT2      3\n",
              "_RFSEAT3      3\n",
              "_FLSHOT6      3\n",
              "_PNEUMO2      3\n",
              "_AIDTST3      3\n",
              "Length: 358, dtype: int64"
            ]
          },
          "metadata": {},
          "execution_count": 10
        }
      ]
    },
    {
      "cell_type": "code",
      "source": [
        "df['PHYSHLTH'].unique()"
      ],
      "metadata": {
        "colab": {
          "base_uri": "https://localhost:8080/"
        },
        "id": "q9ouAj9kMKTz",
        "outputId": "5875fb20-0576-4cf7-b680-7a55a8077f75"
      },
      "execution_count": 11,
      "outputs": [
        {
          "output_type": "execute_result",
          "data": {
            "text/plain": [
              "array([ 0.,  2., 28.,  5., 30.,  4.,  3., 15., 29.,  7., 10., 14.,  6.,\n",
              "        1.,  8., 25., 20., 12., 18., 27., 21., 19., 22.,  9., 13., 17.,\n",
              "       11., 16., 24., 26., 23.])"
            ]
          },
          "metadata": {},
          "execution_count": 11
        }
      ]
    },
    {
      "cell_type": "code",
      "source": [
        "df['PHYSHLTH'].dtypes"
      ],
      "metadata": {
        "colab": {
          "base_uri": "https://localhost:8080/"
        },
        "id": "RhNfo3CiMX-4",
        "outputId": "fbc85386-bdd8-482f-b126-d726d12982ab"
      },
      "execution_count": 12,
      "outputs": [
        {
          "output_type": "execute_result",
          "data": {
            "text/plain": [
              "dtype('float64')"
            ]
          },
          "metadata": {},
          "execution_count": 12
        }
      ]
    },
    {
      "cell_type": "code",
      "source": [
        "df['PHYSHLTH'].value_counts()"
      ],
      "metadata": {
        "colab": {
          "base_uri": "https://localhost:8080/"
        },
        "id": "HVPqjucWMcIs",
        "outputId": "1e0c2e0b-e4b7-4f36-b88a-a173e2caf534"
      },
      "execution_count": 13,
      "outputs": [
        {
          "output_type": "execute_result",
          "data": {
            "text/plain": [
              "0.0     21296\n",
              "30.0     2438\n",
              "2.0      1993\n",
              "1.0      1538\n",
              "3.0      1187\n",
              "5.0      1092\n",
              "10.0      751\n",
              "7.0       641\n",
              "15.0      640\n",
              "4.0       622\n",
              "20.0      402\n",
              "14.0      326\n",
              "6.0       187\n",
              "25.0      159\n",
              "8.0        99\n",
              "21.0       70\n",
              "12.0       69\n",
              "28.0       57\n",
              "29.0       35\n",
              "27.0       22\n",
              "18.0       19\n",
              "16.0       16\n",
              "17.0       15\n",
              "9.0        15\n",
              "22.0       12\n",
              "13.0       10\n",
              "19.0       10\n",
              "11.0        8\n",
              "24.0        7\n",
              "26.0        7\n",
              "23.0        4\n",
              "Name: PHYSHLTH, dtype: int64"
            ]
          },
          "metadata": {},
          "execution_count": 13
        }
      ]
    },
    {
      "cell_type": "markdown",
      "metadata": {
        "id": "tjpV-Yuf8OBh"
      },
      "source": [
        "Run the code below to ensure you have the correct, cleaned dataframe:"
      ]
    },
    {
      "cell_type": "code",
      "execution_count": 14,
      "metadata": {
        "id": "97SPFchM8OBh"
      },
      "outputs": [],
      "source": [
        "# Run this cell without changes\n",
        "\n",
        "# We should have fewer rows, the same number of columns\n",
        "assert df.shape == (33747, 358)\n",
        "\n",
        "# The maximum value in this column should now be 30\n",
        "assert df[\"PHYSHLTH\"].max() == 30.0"
      ]
    },
    {
      "cell_type": "markdown",
      "metadata": {
        "id": "WJa3f8sz8OBh"
      },
      "source": [
        "Now we can look at the same descriptive information on our cleaned data:"
      ]
    },
    {
      "cell_type": "code",
      "execution_count": 15,
      "metadata": {
        "colab": {
          "base_uri": "https://localhost:8080/"
        },
        "id": "YkzAvRJd8OBh",
        "outputId": "91f0a300-aca9-4b16-e20f-ae66ac669bc5"
      },
      "outputs": [
        {
          "output_type": "execute_result",
          "data": {
            "text/plain": [
              "count    33747.000000\n",
              "mean         4.085341\n",
              "std          8.513293\n",
              "min          0.000000\n",
              "25%          0.000000\n",
              "50%          0.000000\n",
              "75%          3.000000\n",
              "max         30.000000\n",
              "Name: PHYSHLTH, dtype: float64"
            ]
          },
          "metadata": {},
          "execution_count": 15
        }
      ],
      "source": [
        "# Run this cell without changes\n",
        "df['PHYSHLTH'].describe()"
      ]
    },
    {
      "cell_type": "code",
      "execution_count": 16,
      "metadata": {
        "colab": {
          "base_uri": "https://localhost:8080/",
          "height": 472
        },
        "id": "w-OjlMC-8OBh",
        "outputId": "2f6b2ca1-ec21-4c77-9810-26470c7c9945"
      },
      "outputs": [
        {
          "output_type": "display_data",
          "data": {
            "text/plain": [
              "<Figure size 640x480 with 1 Axes>"
            ],
            "image/png": "[encoded data removed]"
          },
          "metadata": {}
        }
      ],
      "source": [
        "# Run this cell without changes\n",
        "fig, ax = plt.subplots()\n",
        "ax.hist(df[\"PHYSHLTH\"])\n",
        "ax.set_xlabel(\"PHYSHLTH\")\n",
        "ax.set_ylabel(\"Count\")\n",
        "ax.set_title(\"Distribution of PHYSHLTH in Cleaned Data\");"
      ]
    },
    {
      "cell_type": "markdown",
      "metadata": {
        "id": "fTphdQjI8OBh"
      },
      "source": [
        "That looks a lot more reasonable. Let's move on to the next step."
      ]
    },
    {
      "cell_type": "markdown",
      "metadata": {
        "id": "XrtTg85Q8OBh"
      },
      "source": [
        "## 2. Describe the Distribution of Health Status by State\n",
        "\n",
        "As mentioned previously, this dataset only includes data from three states."
      ]
    },
    {
      "cell_type": "code",
      "execution_count": 17,
      "metadata": {
        "colab": {
          "base_uri": "https://localhost:8080/"
        },
        "id": "yZFVk1zK8OBh",
        "outputId": "80ece515-8cd0-4bc5-be3d-75def3de87ce"
      },
      "outputs": [
        {
          "output_type": "execute_result",
          "data": {
            "text/plain": [
              "36.0    11876\n",
              "34.0    11458\n",
              "9.0     10413\n",
              "Name: _STATE, dtype: int64"
            ]
          },
          "metadata": {},
          "execution_count": 17
        }
      ],
      "source": [
        "# Run this cell without changes\n",
        "df[\"_STATE\"].value_counts()"
      ]
    },
    {
      "cell_type": "markdown",
      "metadata": {
        "id": "ZjdBqsVS8OBh"
      },
      "source": [
        "Look in the data dictionary, pages 2-3, to determine which states map onto which codes. Then replace the numbers with strings representing the state names."
      ]
    },
    {
      "cell_type": "code",
      "source": [
        "state_dict = {36: 'New York', 34: 'New Jersey', 9: 'Connecticut'}\n",
        "\n",
        "df['_STATE'] = df['_STATE'].map(state_dict)\n",
        "df['_STATE'].value_counts()"
      ],
      "metadata": {
        "colab": {
          "base_uri": "https://localhost:8080/"
        },
        "id": "SeWwkyHQUKE8",
        "outputId": "4e2f620b-60f6-4a60-a869-9b1cefa1f690"
      },
      "execution_count": 18,
      "outputs": [
        {
          "output_type": "stream",
          "name": "stderr",
          "text": [
            "<ipython-input-18-08df2d71a964>:3: SettingWithCopyWarning: \n",
            "A value is trying to be set on a copy of a slice from a DataFrame.\n",
            "Try using .loc[row_indexer,col_indexer] = value instead\n",
            "\n",
            "See the caveats in the documentation: https://pandas.pydata.org/pandas-docs/stable/user_guide/indexing.html#returning-a-view-versus-a-copy\n",
            "  df['_STATE'] = df['_STATE'].map(state_dict)\n"
          ]
        },
        {
          "output_type": "execute_result",
          "data": {
            "text/plain": [
              "New York       11876\n",
              "New Jersey     11458\n",
              "Connecticut    10413\n",
              "Name: _STATE, dtype: int64"
            ]
          },
          "metadata": {},
          "execution_count": 18
        }
      ]
    },
    {
      "cell_type": "code",
      "source": [
        "df[\"_STATE\"].value_counts()"
      ],
      "metadata": {
        "colab": {
          "base_uri": "https://localhost:8080/"
        },
        "id": "YzQ3cxKSUTID",
        "outputId": "2df58e6f-badb-4c3f-e701-c656eca2d8aa"
      },
      "execution_count": 19,
      "outputs": [
        {
          "output_type": "execute_result",
          "data": {
            "text/plain": [
              "New York       11876\n",
              "New Jersey     11458\n",
              "Connecticut    10413\n",
              "Name: _STATE, dtype: int64"
            ]
          },
          "metadata": {},
          "execution_count": 19
        }
      ]
    },
    {
      "cell_type": "markdown",
      "metadata": {
        "id": "JrNV5bHQ8OBh"
      },
      "source": [
        "Below, we check the values:"
      ]
    },
    {
      "cell_type": "code",
      "execution_count": 20,
      "metadata": {
        "id": "V48hZ6y48OBh"
      },
      "outputs": [],
      "source": [
        "# Run this cell without changes\n",
        "\n",
        "# Shape should be the same\n",
        "assert df.shape == (33747, 358)\n",
        "\n",
        "# Values in state column should be changed\n",
        "assert sorted(list(df[\"_STATE\"].value_counts().index)) == ['Connecticut', 'New Jersey', 'New York']"
      ]
    },
    {
      "cell_type": "code",
      "execution_count": 21,
      "metadata": {
        "colab": {
          "base_uri": "https://localhost:8080/",
          "height": 452
        },
        "id": "kbUy9ETP8OBh",
        "outputId": "4edc5174-e135-4b91-cf67-a07061c43331"
      },
      "outputs": [
        {
          "output_type": "display_data",
          "data": {
            "text/plain": [
              "<Figure size 1500x600 with 1 Axes>"
            ],
            "image/png": "[encoded data removed]"
          },
          "metadata": {}
        }
      ],
      "source": [
        "# Run this cell without changes\n",
        "\n",
        "ny = df.loc[df[\"_STATE\"] == \"New York\", \"PHYSHLTH\"]\n",
        "nj = df.loc[df[\"_STATE\"] == \"New Jersey\", \"PHYSHLTH\"]\n",
        "ct = df.loc[df[\"_STATE\"] == \"Connecticut\", \"PHYSHLTH\"]\n",
        "\n",
        "fig, ax = plt.subplots(figsize=(15, 6))\n",
        "\n",
        "ax.hist(\n",
        "    x=[ny, nj, ct],\n",
        "    label=[\"New York\", \"New Jersey\", \"Connecticut\"],\n",
        "    bins=range(32),\n",
        "    align=\"left\"\n",
        ")\n",
        "\n",
        "ax.set_xlabel(\"PHYSHLTH\")\n",
        "ax.set_ylabel(\"Count\")\n",
        "ax.set_title(\"Distribution of PHYSHLTH by State\")\n",
        "\n",
        "ax.legend(title=\"State\");"
      ]
    },
    {
      "cell_type": "markdown",
      "metadata": {
        "id": "dBtFspD38OBh"
      },
      "source": [
        "Looking at the plot above, does the distribution seem to differ by state?\n",
        "\n",
        "(Just answer based on a visual inspection; we will do the statistical assessment next.)"
      ]
    },
    {
      "cell_type": "code",
      "execution_count": null,
      "metadata": {
        "id": "l65G2qw28OBh"
      },
      "outputs": [],
      "source": [
        "# Replace None with appropriate text\n",
        "\"\"\"\n",
        "No, it does not.\n",
        "\"\"\""
      ]
    },
    {
      "cell_type": "markdown",
      "metadata": {
        "id": "OwqNWlkn8OBh"
      },
      "source": [
        "For the statistical test, we will be comparing the *means* of `PHYSHLTH` across states, as a representation of the overall distribution. In other words, when operationalizing the question **does `PHYSHLTH` differ by state?** we want to answer that in terms of the mean `PHYSHLTH`.\n",
        "\n",
        "Let's look at those means:"
      ]
    },
    {
      "cell_type": "code",
      "execution_count": 22,
      "metadata": {
        "colab": {
          "base_uri": "https://localhost:8080/"
        },
        "id": "6gKtlD-Q8OBh",
        "outputId": "268469af-2ec9-4744-b562-527a54ea5d8f"
      },
      "outputs": [
        {
          "output_type": "execute_result",
          "data": {
            "text/plain": [
              "_STATE\n",
              "Connecticut    3.688562\n",
              "New Jersey     4.380957\n",
              "New York       4.148030\n",
              "Name: PHYSHLTH, dtype: float64"
            ]
          },
          "metadata": {},
          "execution_count": 22
        }
      ],
      "source": [
        "# Run this cell without changes\n",
        "df.groupby(\"_STATE\")[\"PHYSHLTH\"].mean()"
      ]
    },
    {
      "cell_type": "markdown",
      "metadata": {
        "id": "CbI8QL2a8OBh"
      },
      "source": [
        "You likely noted that the overall distribution looked about the same, but these means are different. We have a range from Connecticut with about 3.7 days of bad health to New Jersey with about 4.4 days. But is that difference statistically significant?"
      ]
    },
    {
      "cell_type": "markdown",
      "metadata": {
        "id": "PMoMVuZI8OBh"
      },
      "source": [
        "Identify which of the statistical tests you have learned is the most appropriate for this question, and why. Make sure you mention what kinds of variables are being compared (numeric and categorical), and how many categories there are."
      ]
    },
    {
      "cell_type": "code",
      "execution_count": null,
      "metadata": {
        "id": "cYFwV6kv8OBh"
      },
      "outputs": [],
      "source": [
        "# Replace None with appropriate text\n",
        "\"\"\"\n",
        "We want to do a one-way ANOVA test as we want to analyze the numerical variance between groups.\n",
        "We want to compare the PHYSHEALTH column. There are three states (Connecticut, New York, New Jersey)\n",
        "represented in our dataset,and the constituents surveyed were able to provide an answer in the form\n",
        "of a numerical value.\n",
        "\"\"\""
      ]
    },
    {
      "cell_type": "markdown",
      "metadata": {
        "id": "bBiGYOFR8OBi"
      },
      "source": [
        "Now, identify the null and alternative hypotheses:"
      ]
    },
    {
      "cell_type": "code",
      "execution_count": null,
      "metadata": {
        "id": "8ND9SBf18OBi"
      },
      "outputs": [],
      "source": [
        "# Replace None with appropriate text\n",
        "\"\"\"\n",
        "H0 = There is no statistically significant difference in means of bad health days between NY, NJ, CT.\n",
        "In other words, the average number of bad health days is equal or less than across the tri-state area.\n",
        "\n",
        "Ha = There is a statistically significant difference in means of bad health days between NY, NJ, CT.\n",
        "In other words, the average number of bad days is greater in one state than at least one other state.\n",
        "\"\"\""
      ]
    },
    {
      "cell_type": "markdown",
      "metadata": {
        "id": "yko6jBh08OBi"
      },
      "source": [
        "In the cell below, we set up and execute the statistical test for you. If this doesn't match your previous answer about which test to perform, look at the solution branch to understand why this is the appropriate test."
      ]
    },
    {
      "cell_type": "code",
      "execution_count": 24,
      "metadata": {
        "colab": {
          "base_uri": "https://localhost:8080/",
          "height": 112
        },
        "id": "f08o-CZe8OBi",
        "outputId": "cadaba18-f426-4a26-b304-23e722d3b815"
      },
      "outputs": [
        {
          "output_type": "execute_result",
          "data": {
            "text/plain": [
              "                df        sum_sq      mean_sq          F        PR(>F)\n",
              "C(_STATE)      2.0  2.687322e+03  1343.660882  18.558645  8.800607e-09\n",
              "Residual   33744.0  2.443093e+06    72.400809        NaN           NaN"
            ],
            "text/html": [
              "\n",
              "  <div id=\"df-553ea4ce-08ee-4e6e-a01d-14b604491757\">\n",
              "    <div class=\"colab-df-container\">\n",
              "      <div>\n",
              "<style scoped>\n",
              "    .dataframe tbody tr th:only-of-type {\n",
              "        vertical-align: middle;\n",
              "    }\n",
              "\n",
              "    .dataframe tbody tr th {\n",
              "        vertical-align: top;\n",
              "    }\n",
              "\n",
              "    .dataframe thead th {\n",
              "        text-align: right;\n",
              "    }\n",
              "</style>\n",
              "<table border=\"1\" class=\"dataframe\">\n",
              "  <thead>\n",
              "    <tr style=\"text-align: right;\">\n",
              "      <th></th>\n",
              "      <th>df</th>\n",
              "      <th>sum_sq</th>\n",
              "      <th>mean_sq</th>\n",
              "      <th>F</th>\n",
              "      <th>PR(&gt;F)</th>\n",
              "    </tr>\n",
              "  </thead>\n",
              "  <tbody>\n",
              "    <tr>\n",
              "      <th>C(_STATE)</th>\n",
              "      <td>2.0</td>\n",
              "      <td>2.687322e+03</td>\n",
              "      <td>1343.660882</td>\n",
              "      <td>18.558645</td>\n",
              "      <td>8.800607e-09</td>\n",
              "    </tr>\n",
              "    <tr>\n",
              "      <th>Residual</th>\n",
              "      <td>33744.0</td>\n",
              "      <td>2.443093e+06</td>\n",
              "      <td>72.400809</td>\n",
              "      <td>NaN</td>\n",
              "      <td>NaN</td>\n",
              "    </tr>\n",
              "  </tbody>\n",
              "</table>\n",
              "</div>\n",
              "      <button class=\"colab-df-convert\" onclick=\"convertToInteractive('df-553ea4ce-08ee-4e6e-a01d-14b604491757')\"\n",
              "              title=\"Convert this dataframe to an interactive table.\"\n",
              "              style=\"display:none;\">\n",
              "        \n",
              "  <svg xmlns=\"http://www.w3.org/2000/svg\" height=\"24px\"viewBox=\"0 0 24 24\"\n",
              "       width=\"24px\">\n",
              "    <path d=\"M0 0h24v24H0V0z\" fill=\"none\"/>\n",
              "    <path d=\"M18.56 5.44l.94 2.06.94-2.06 2.06-.94-2.06-.94-.94-2.06-.94 2.06-2.06.94zm-11 1L8.5 8.5l.94-2.06 2.06-.94-2.06-.94L8.5 2.5l-.94 2.06-2.06.94zm10 10l.94 2.06.94-2.06 2.06-.94-2.06-.94-.94-2.06-.94 2.06-2.06.94z\"/><path d=\"M17.41 7.96l-1.37-1.37c-.4-.4-.92-.59-1.43-.59-.52 0-1.04.2-1.43.59L10.3 9.45l-7.72 7.72c-.78.78-.78 2.05 0 2.83L4 21.41c.39.39.9.59 1.41.59.51 0 1.02-.2 1.41-.59l7.78-7.78 2.81-2.81c.8-.78.8-2.07 0-2.86zM5.41 20L4 18.59l7.72-7.72 1.47 1.35L5.41 20z\"/>\n",
              "  </svg>\n",
              "      </button>\n",
              "      \n",
              "  <style>\n",
              "    .colab-df-container {\n",
              "      display:flex;\n",
              "      flex-wrap:wrap;\n",
              "      gap: 12px;\n",
              "    }\n",
              "\n",
              "    .colab-df-convert {\n",
              "      background-color: #E8F0FE;\n",
              "      border: none;\n",
              "      border-radius: 50%;\n",
              "      cursor: pointer;\n",
              "      display: none;\n",
              "      fill: #1967D2;\n",
              "      height: 32px;\n",
              "      padding: 0 0 0 0;\n",
              "      width: 32px;\n",
              "    }\n",
              "\n",
              "    .colab-df-convert:hover {\n",
              "      background-color: #E2EBFA;\n",
              "      box-shadow: 0px 1px 2px rgba(60, 64, 67, 0.3), 0px 1px 3px 1px rgba(60, 64, 67, 0.15);\n",
              "      fill: #174EA6;\n",
              "    }\n",
              "\n",
              "    [theme=dark] .colab-df-convert {\n",
              "      background-color: #3B4455;\n",
              "      fill: #D2E3FC;\n",
              "    }\n",
              "\n",
              "    [theme=dark] .colab-df-convert:hover {\n",
              "      background-color: #434B5C;\n",
              "      box-shadow: 0px 1px 3px 1px rgba(0, 0, 0, 0.15);\n",
              "      filter: drop-shadow(0px 1px 2px rgba(0, 0, 0, 0.3));\n",
              "      fill: #FFFFFF;\n",
              "    }\n",
              "  </style>\n",
              "\n",
              "      <script>\n",
              "        const buttonEl =\n",
              "          document.querySelector('#df-553ea4ce-08ee-4e6e-a01d-14b604491757 button.colab-df-convert');\n",
              "        buttonEl.style.display =\n",
              "          google.colab.kernel.accessAllowed ? 'block' : 'none';\n",
              "\n",
              "        async function convertToInteractive(key) {\n",
              "          const element = document.querySelector('#df-553ea4ce-08ee-4e6e-a01d-14b604491757');\n",
              "          const dataTable =\n",
              "            await google.colab.kernel.invokeFunction('convertToInteractive',\n",
              "                                                     [key], {});\n",
              "          if (!dataTable) return;\n",
              "\n",
              "          const docLinkHtml = 'Like what you see? Visit the ' +\n",
              "            '<a target=\"_blank\" href=https://colab.research.google.com/notebooks/data_table.ipynb>data table notebook</a>'\n",
              "            + ' to learn more about interactive tables.';\n",
              "          element.innerHTML = '';\n",
              "          dataTable['output_type'] = 'display_data';\n",
              "          await google.colab.output.renderOutput(dataTable, element);\n",
              "          const docLink = document.createElement('div');\n",
              "          docLink.innerHTML = docLinkHtml;\n",
              "          element.appendChild(docLink);\n",
              "        }\n",
              "      </script>\n",
              "    </div>\n",
              "  </div>\n",
              "  "
            ]
          },
          "metadata": {},
          "execution_count": 24
        }
      ],
      "source": [
        "# Run this cell without changes\n",
        "import statsmodels.api as sm\n",
        "from statsmodels.formula.api import ols\n",
        "\n",
        "formula = 'PHYSHLTH ~ C(_STATE)'\n",
        "lm = ols(formula, df).fit()\n",
        "sm.stats.anova_lm(lm)"
      ]
    },
    {
      "cell_type": "markdown",
      "metadata": {
        "id": "R3PMa6Wb8OBi"
      },
      "source": [
        "Interpret the results of this statistical test below. What is the calculated p-value? Were we able to reject the null hypothesis at an alpha of 0.05? What does this say about how `PHYSHLTH` varies by state? What recommendations would you make to the business?"
      ]
    },
    {
      "cell_type": "code",
      "execution_count": null,
      "metadata": {
        "id": "W7eEqlIF8OBl"
      },
      "outputs": [],
      "source": [
        "# Replace None with appropriate text\n",
        "\"\"\"\n",
        "The calculated p-value is 8.800607e-09 which is super low so the null must go!\n",
        "It seems there is a significant difference in average bad health days between states.\n",
        "I would recommend following up with a pairwise t test or a Tukey HSD test to see which states\n",
        "are significantly different on average. And then dig into other variables and contributing factors to see why one state\n",
        "has more bad health days that another. For example, maybe one area has a higher cost of living\n",
        "which creates stress for residents, and then stress leads to more health issues.\n",
        "Another example could be living in area with more industrial pollution, which is known to increase asthma rates,\n",
        "drives up complaints of poor health.\n",
        "\"\"\""
      ]
    },
    {
      "cell_type": "markdown",
      "metadata": {
        "id": "glhCl2hz8OBm"
      },
      "source": [
        "With that section wrapped up, let's move on to the next step."
      ]
    },
    {
      "cell_type": "markdown",
      "metadata": {
        "id": "dJEyBLEm8OBm"
      },
      "source": [
        "## 3. Describe the Relationship between Health Status and Home Ownership Status\n",
        "\n",
        "This time, we want to categorize respondents by demographic information: specifically, we'll look at whether or not they own their home.\n",
        "\n",
        "Once again, this will require some data preparation. The variable of interest is contained in the `RENTHOM1` column. Currently the values look like this:"
      ]
    },
    {
      "cell_type": "code",
      "execution_count": 25,
      "metadata": {
        "colab": {
          "base_uri": "https://localhost:8080/"
        },
        "id": "MCrdCpwB8OBm",
        "outputId": "a0fd319d-b4bb-46ff-ab56-2508418ae4f5"
      },
      "outputs": [
        {
          "output_type": "execute_result",
          "data": {
            "text/plain": [
              "1.0    21690\n",
              "2.0    10244\n",
              "3.0     1526\n",
              "9.0      194\n",
              "7.0       93\n",
              "Name: RENTHOM1, dtype: int64"
            ]
          },
          "metadata": {},
          "execution_count": 25
        }
      ],
      "source": [
        "# Run this cell without changes\n",
        "df[\"RENTHOM1\"].value_counts()"
      ]
    },
    {
      "cell_type": "markdown",
      "metadata": {
        "id": "RgYZZOAX8OBm"
      },
      "source": [
        "In the cell below, modify `df` so that we have dropped all records where the `RENTHOM1` value label is neither `Own` nor `Rent`, and we have replaced the numeric codes with `Own` and `Rent` respectively. You can find more information about codes on page 33 of the data dictionary."
      ]
    },
    {
      "cell_type": "markdown",
      "source": [
        "Making copies to try different ways of accomplishing this task."
      ],
      "metadata": {
        "id": "1vqcK7WFs20h"
      }
    },
    {
      "cell_type": "code",
      "source": [
        "df_copy3 = df.copy()"
      ],
      "metadata": {
        "id": "p9-v2Zf4s-qY"
      },
      "execution_count": 26,
      "outputs": []
    },
    {
      "cell_type": "code",
      "source": [
        "df_copy4 = df.copy()"
      ],
      "metadata": {
        "id": "_w21o3X5voHe"
      },
      "execution_count": 27,
      "outputs": []
    },
    {
      "cell_type": "code",
      "source": [
        "# confirming the data types\n",
        "df['RENTHOM1'].dtypes"
      ],
      "metadata": {
        "colab": {
          "base_uri": "https://localhost:8080/"
        },
        "id": "aABkzcKKtCw4",
        "outputId": "b64cd3f3-0c80-48fd-ea92-fd26eb3dcdc3"
      },
      "execution_count": 28,
      "outputs": [
        {
          "output_type": "execute_result",
          "data": {
            "text/plain": [
              "dtype('float64')"
            ]
          },
          "metadata": {},
          "execution_count": 28
        }
      ]
    },
    {
      "cell_type": "markdown",
      "source": [
        "###Option 1:\n",
        " * Exclude any record that does not have 1.0 or 2.0 value\n",
        " * Then, map the dictionary"
      ],
      "metadata": {
        "id": "6RBgwf0ttDhz"
      }
    },
    {
      "cell_type": "code",
      "source": [
        "# Option 1: exclude any record that does not have 1.0 or 2.0 value\n",
        "# Then, map the dictionary\n",
        "\n",
        "df_copy3 = df_copy3[df_copy3['RENTHOM1'].isin([1.0, 2.0])]\n",
        "\n",
        "rentown_dict = {1.0: 'Own', 2.0: 'Rent'}\n",
        "df_copy3['RENTHOM1'] = df_copy3['RENTHOM1'].map(rentown_dict)\n"
      ],
      "metadata": {
        "id": "ts5AHAekvAEE",
        "colab": {
          "base_uri": "https://localhost:8080/"
        },
        "outputId": "e9ff7508-5e28-4465-e42e-0af63c67feeb"
      },
      "execution_count": 29,
      "outputs": [
        {
          "output_type": "stream",
          "name": "stderr",
          "text": [
            "<ipython-input-29-6c61498929ee>:7: SettingWithCopyWarning: \n",
            "A value is trying to be set on a copy of a slice from a DataFrame.\n",
            "Try using .loc[row_indexer,col_indexer] = value instead\n",
            "\n",
            "See the caveats in the documentation: https://pandas.pydata.org/pandas-docs/stable/user_guide/indexing.html#returning-a-view-versus-a-copy\n",
            "  df_copy3['RENTHOM1'] = df_copy3['RENTHOM1'].map(rentown_dict)\n"
          ]
        }
      ]
    },
    {
      "cell_type": "code",
      "source": [
        "# sanity check\n",
        "df_copy3[\"RENTHOM1\"].value_counts()"
      ],
      "metadata": {
        "colab": {
          "base_uri": "https://localhost:8080/"
        },
        "id": "tFwwH8oivyee",
        "outputId": "98838dee-9840-4fa2-e17c-085e1ba80c99"
      },
      "execution_count": 30,
      "outputs": [
        {
          "output_type": "execute_result",
          "data": {
            "text/plain": [
              "Own     21690\n",
              "Rent    10244\n",
              "Name: RENTHOM1, dtype: int64"
            ]
          },
          "metadata": {},
          "execution_count": 30
        }
      ]
    },
    {
      "cell_type": "markdown",
      "source": [
        "### Option 2:\n",
        "* Map the dictionary\n",
        "* Then drop the records with NaN values"
      ],
      "metadata": {
        "id": "N72RzbBktNFL"
      }
    },
    {
      "cell_type": "code",
      "source": [
        "# Option 2: map the dictionary\n",
        "# Then drop the records with NaN values\n",
        "\n",
        "rentown_dict = {1.0: 'Own', 2.0: 'Rent'}\n",
        "df_copy4['RENTHOM1'] = df_copy4['RENTHOM1'].map(rentown_dict)\n",
        "\n",
        "# drop rows where 'RENTHOM1' is NaN\n",
        "df_copy4 = df_copy4.dropna(subset=['RENTHOM1'])\n"
      ],
      "metadata": {
        "id": "rXjm82svvCVi"
      },
      "execution_count": 31,
      "outputs": []
    },
    {
      "cell_type": "code",
      "source": [
        "# sanity check\n",
        "df_copy4[\"RENTHOM1\"].value_counts()"
      ],
      "metadata": {
        "colab": {
          "base_uri": "https://localhost:8080/"
        },
        "id": "ELxNsoF-wZAg",
        "outputId": "608d58b1-3bbf-43c8-f58f-4001bb16ef1b"
      },
      "execution_count": 32,
      "outputs": [
        {
          "output_type": "execute_result",
          "data": {
            "text/plain": [
              "Own     21690\n",
              "Rent    10244\n",
              "Name: RENTHOM1, dtype: int64"
            ]
          },
          "metadata": {},
          "execution_count": 32
        }
      ]
    },
    {
      "cell_type": "markdown",
      "source": [
        " ### I prefer option 1 so:"
      ],
      "metadata": {
        "id": "gGndloBltX9W"
      }
    },
    {
      "cell_type": "code",
      "source": [
        "# Make df_copy_3 our main df\n",
        "df = df_copy3"
      ],
      "metadata": {
        "id": "MIXGhNZCwkzL"
      },
      "execution_count": 33,
      "outputs": []
    },
    {
      "cell_type": "code",
      "execution_count": 34,
      "metadata": {
        "colab": {
          "base_uri": "https://localhost:8080/"
        },
        "id": "hPLwm01A8OBm",
        "outputId": "1438e7e5-6190-4bca-f205-8779de98cb63"
      },
      "outputs": [
        {
          "output_type": "execute_result",
          "data": {
            "text/plain": [
              "Own     21690\n",
              "Rent    10244\n",
              "Name: RENTHOM1, dtype: int64"
            ]
          },
          "metadata": {},
          "execution_count": 34
        }
      ],
      "source": [
        "# Run this cell without changes\n",
        "df[\"RENTHOM1\"].value_counts()"
      ]
    },
    {
      "cell_type": "markdown",
      "metadata": {
        "id": "yvkXjCv28OBm"
      },
      "source": [
        "Below, we check that this was done correctly:"
      ]
    },
    {
      "cell_type": "code",
      "execution_count": 35,
      "metadata": {
        "id": "jbS3PLDw8OBm"
      },
      "outputs": [],
      "source": [
        "# Run this cell without changes\n",
        "\n",
        "# Number of rows should be smaller again\n",
        "assert df.shape == (31934, 358)\n",
        "\n",
        "# Only two values should be present in this column\n",
        "assert sorted(list(df[\"RENTHOM1\"].value_counts().index)) == ['Own', 'Rent']"
      ]
    },
    {
      "cell_type": "markdown",
      "metadata": {
        "id": "o1Wx8vG08OBm"
      },
      "source": [
        "Now, similar to the previous step, create a plot that shows the distribution of `PHYSHLTH` for those who own vs. rent their homes, including appropriate axis labels and legend. Because there is more of an imbalance of categories this time (more than twice as many owners as renters, compared to nearly-even numbers from New York, New Jersey, and Connecticut), make sure you add the argument `density=True`, so that the y-axis shows the density (proportion) rather than the count."
      ]
    },
    {
      "cell_type": "code",
      "source": [
        "# Your code here\n",
        "\n",
        "rent = df.loc[df[\"RENTHOM1\"] == \"Rent\", \"PHYSHLTH\"]\n",
        "own = df.loc[df[\"RENTHOM1\"] == \"Own\", \"PHYSHLTH\"]\n",
        "\n",
        "\n",
        "fig, ax = plt.subplots(figsize=(15, 6))\n",
        "\n",
        "ax.hist(\n",
        "    x=[rent, own],\n",
        "    label=[\"Rent\", \"Own\"],\n",
        "    bins=range(32),\n",
        "    align=\"left\",\n",
        "    density=True\n",
        ")\n",
        "\n",
        "ax.set_xlabel(\"PHYSHLTH\")\n",
        "ax.set_ylabel(\"Density\")\n",
        "ax.set_title(\"Distribution of PHYSHLTH by Residence Ownership Status\")\n",
        "\n",
        "ax.legend(title=\"Residence\");"
      ],
      "metadata": {
        "id": "wCbfdaVSxGZd",
        "colab": {
          "base_uri": "https://localhost:8080/",
          "height": 456
        },
        "outputId": "6e67c6e1-7377-43a4-f71b-d77648be19bd"
      },
      "execution_count": 37,
      "outputs": [
        {
          "output_type": "display_data",
          "data": {
            "text/plain": [
              "<Figure size 1500x600 with 1 Axes>"
            ],
            "image/png": "[encoded data removed]"
          },
          "metadata": {}
        }
      ]
    },
    {
      "cell_type": "markdown",
      "metadata": {
        "id": "B58Y2ayE8OBm"
      },
      "source": [
        "Then run this code to find the averages:"
      ]
    },
    {
      "cell_type": "code",
      "execution_count": 39,
      "metadata": {
        "id": "bY15HPe08OBm",
        "colab": {
          "base_uri": "https://localhost:8080/"
        },
        "outputId": "4f3bfe2c-f81d-434f-b112-cf28446960c8"
      },
      "outputs": [
        {
          "output_type": "execute_result",
          "data": {
            "text/plain": [
              "RENTHOM1\n",
              "Own     3.531213\n",
              "Rent    5.197970\n",
              "Name: PHYSHLTH, dtype: float64"
            ]
          },
          "metadata": {},
          "execution_count": 39
        }
      ],
      "source": [
        "# Run this cell without changes\n",
        "df.groupby(\"RENTHOM1\")[\"PHYSHLTH\"].mean()"
      ]
    },
    {
      "cell_type": "markdown",
      "metadata": {
        "id": "MG_tagWl8OBm"
      },
      "source": [
        "Now, interpret the plot and averages. Does it seem like there a difference in the number of unhealthy days between those who rent their homes and those who own their homes? How does this compare to the distributions by state?"
      ]
    },
    {
      "cell_type": "code",
      "execution_count": null,
      "metadata": {
        "id": "H-e8mEdv8OBm"
      },
      "outputs": [],
      "source": [
        "# Replace None with appropriate text\n",
        "\"\"\"\n",
        "It seems to me that there is a noticeable difference; renters report more bad health days on average than home owners.\n",
        "This could contribute to the difference in states if one state has a higher proportion of renters.\n",
        "Also, dealing with landlords and building management is stressful, so these results make sense to me!\n",
        "\"\"\""
      ]
    },
    {
      "cell_type": "markdown",
      "metadata": {
        "id": "o7yh-PhJ8OBm"
      },
      "source": [
        "Now, choose and execute an appropriate statistical test. Make sure you describe why you chose the test, the null and alternative hypotheses, and what the result of the test means."
      ]
    },
    {
      "cell_type": "code",
      "execution_count": null,
      "metadata": {
        "id": "BZcivCuD8OBm"
      },
      "outputs": [],
      "source": [
        "# Hypotheses\n",
        "\"\"\"\n",
        "H0: Renters report unhealthy days that, on average, are less than or equal to the unhealthy days reported by home owners.\n",
        "Ha: Renters report more unhealthy days on average than home owners.\n",
        "\"\"\""
      ]
    },
    {
      "cell_type": "code",
      "source": [
        "# test choice reason\n",
        "\"\"\"\n",
        "I want to compare two samples (renters and owners) so I will conduct a two sample t test.\n",
        "It is right-tailed as I am interested in whether unhealthy days for renters are greater than unhealthy days for owners.\n",
        "\"\"\""
      ],
      "metadata": {
        "id": "pXgXHZd-08lq"
      },
      "execution_count": null,
      "outputs": []
    },
    {
      "cell_type": "code",
      "source": [
        "# importing stats\n",
        "from scipy import stats\n",
        "\n",
        "# run two sample t test for my two independent groups\n",
        "# alternative='greater' is used to perform a right-tailed test\n",
        "t_stat, p_val = stats.ttest_ind(rent, own, alternative='greater')\n",
        "\n",
        "print(\"T Statistic = \", t_stat)\n",
        "print(\"P Value = \", p_val)"
      ],
      "metadata": {
        "colab": {
          "base_uri": "https://localhost:8080/"
        },
        "id": "thTePPgj29RJ",
        "outputId": "f0279df7-fd24-4662-dcf6-4f377a51e436"
      },
      "execution_count": 41,
      "outputs": [
        {
          "output_type": "stream",
          "name": "stdout",
          "text": [
            "T Statistic =  16.435805439672\n",
            "P Value =  9.39419628197452e-61\n"
          ]
        }
      ]
    },
    {
      "cell_type": "code",
      "source": [
        "# result meaning\n",
        "\"\"\"\n",
        "Since we already decided the alpha is 0.05\n",
        "(which seems high for a health company, but that is what we have been given),\n",
        "it is very clear that we must reject the null hypothesis.\n",
        "There is a 95% chance that renters have more unhealthy days on average than home owners.\n",
        "\n",
        "\"\"\""
      ],
      "metadata": {
        "id": "XQV4squc5D3G"
      },
      "execution_count": null,
      "outputs": []
    },
    {
      "cell_type": "markdown",
      "metadata": {
        "id": "7S36EDIm8OBm"
      },
      "source": [
        "## 4. Describe the Relationship between Chronic Sickness and Nicotine Use\n",
        "\n",
        "Once again, this will require some preparation before we can run the statistical test. Create a new column `NICOTINE_USE` with 1 representing someone who uses or has used nicotine in some form, and 0 representing someone who hasn't.\n",
        "\n",
        "We define nicotine use as:\n",
        "\n",
        "* Answered `Yes` to the `SMOKE100` question (*Have you smoked at least 100 cigarettes in your entire life?*, page 43), OR\n",
        "* Answered `Every day` or `Some days` to the `USENOW3` question (*Do you currently use chewing tobacco, snuff, or snus every day, some days, or not at all?*, page 46), OR\n",
        "* Answered `Yes` to the `ECIGARET` question (*Have you ever used an e-cigarette or other electronic vaping product, even just one time, in your entire life?*, page 46)\n",
        "\n",
        "If a record matches one or more of the above criteria, `NICOTINE_USE` should be 1. Otherwise, `NICOTINE_USE` should be 0. Go ahead and keep all of the \"Don't know\" or \"Refused\" answers as 0."
      ]
    },
    {
      "cell_type": "code",
      "source": [
        "# Your code here\n",
        "\n",
        "# instantiate the new column, with zero as default value\n",
        "df['NICOTINE_USE'] = 0\n",
        "\n",
        "# relevant_columns = ['SMOKE100','USENOW3','ECIGARET' ]\n",
        "# create a mask to select the values from the relevant columns\n",
        "# note: a \"mask\" is a sequence of boolean values used to filter data\n",
        "\n",
        "smoke_mask = (\n",
        "    # Label: Smoked at Least 100 Cigarettes\n",
        "    (df['SMOKE100'] == 1) |\n",
        "\n",
        "    #Label: Label: Use of Smokeless Tobacco Products\n",
        "    (df['USENOW3'] == 1) |\n",
        "    (df['USENOW3'] == 2) |\n",
        "\n",
        "    #Label: Ever used an e-cigarette?\n",
        "    (df['ECIGARET'] == 1)\n",
        ")\n",
        "\n",
        "# set values to 1 where the condition is true\n",
        "df.loc[smoke_mask, 'NICOTINE_USE'] = 1\n",
        "\n",
        "# Look at the distribution of values\n",
        "df[\"NICOTINE_USE\"].value_counts(normalize=True)"
      ],
      "metadata": {
        "colab": {
          "base_uri": "https://localhost:8080/"
        },
        "id": "LIyXJGEm-a-o",
        "outputId": "6140c323-26a5-4fa4-99c2-9e22afe5be1e"
      },
      "execution_count": 45,
      "outputs": [
        {
          "output_type": "execute_result",
          "data": {
            "text/plain": [
              "0    0.563036\n",
              "1    0.436964\n",
              "Name: NICOTINE_USE, dtype: float64"
            ]
          },
          "metadata": {},
          "execution_count": 45
        }
      ]
    },
    {
      "cell_type": "markdown",
      "metadata": {
        "id": "8PpPglKD8OBn"
      },
      "source": [
        "This time, let's treat health status as a categorical variable. We'll say that a \"chronically sick\" person is a person who reports that their physical health was not good for 15 or more out of the past 30 days. (This is a simplification but it will work for this analysis.)\n",
        "\n",
        "In the cell below, create a new column of `df` called `CHRONIC`, which is 0 for records where `PHYSHLTH` is less than 15, and 1 for records where `PHYSHLTH` is 15 or more."
      ]
    },
    {
      "cell_type": "code",
      "execution_count": 46,
      "metadata": {
        "id": "TUUDmmKm8OBn",
        "colab": {
          "base_uri": "https://localhost:8080/"
        },
        "outputId": "e41d0bc3-4d37-4724-b56a-a8f4721c42af"
      },
      "outputs": [
        {
          "output_type": "execute_result",
          "data": {
            "text/plain": [
              "0    28246\n",
              "1     3688\n",
              "Name: CHRONIC, dtype: int64"
            ]
          },
          "metadata": {},
          "execution_count": 46
        }
      ],
      "source": [
        "# Your code here\n",
        "# instantiate the new column, with zero as default value\n",
        "df['CHRONIC'] = 0\n",
        "\n",
        "chronic_mask =(\n",
        "    df['PHYSHLTH'] >= 15\n",
        ")\n",
        "\n",
        "# set values to 1 where the condition is true\n",
        "df.loc[chronic_mask, 'CHRONIC'] = 1\n",
        "\n",
        "# View the distribution of the newly-created column\n",
        "df[\"CHRONIC\"].value_counts()"
      ]
    },
    {
      "cell_type": "markdown",
      "metadata": {
        "id": "J8WHvq_98OBn"
      },
      "source": [
        "Now we can view the crosstabs for these two categorical variables, as well as display their distributions:"
      ]
    },
    {
      "cell_type": "code",
      "execution_count": 47,
      "metadata": {
        "id": "I_WvAXPA8OBn",
        "colab": {
          "base_uri": "https://localhost:8080/",
          "height": 143
        },
        "outputId": "c1412c54-2263-4b4b-d830-1b931d24c7cf"
      },
      "outputs": [
        {
          "output_type": "execute_result",
          "data": {
            "text/plain": [
              "NICOTINE_USE      0      1\n",
              "CHRONIC                   \n",
              "0             16332  11914\n",
              "1              1648   2040"
            ],
            "text/html": [
              "\n",
              "  <div id=\"df-798ad0a6-0d73-4243-a645-dc552d83959b\">\n",
              "    <div class=\"colab-df-container\">\n",
              "      <div>\n",
              "<style scoped>\n",
              "    .dataframe tbody tr th:only-of-type {\n",
              "        vertical-align: middle;\n",
              "    }\n",
              "\n",
              "    .dataframe tbody tr th {\n",
              "        vertical-align: top;\n",
              "    }\n",
              "\n",
              "    .dataframe thead th {\n",
              "        text-align: right;\n",
              "    }\n",
              "</style>\n",
              "<table border=\"1\" class=\"dataframe\">\n",
              "  <thead>\n",
              "    <tr style=\"text-align: right;\">\n",
              "      <th>NICOTINE_USE</th>\n",
              "      <th>0</th>\n",
              "      <th>1</th>\n",
              "    </tr>\n",
              "    <tr>\n",
              "      <th>CHRONIC</th>\n",
              "      <th></th>\n",
              "      <th></th>\n",
              "    </tr>\n",
              "  </thead>\n",
              "  <tbody>\n",
              "    <tr>\n",
              "      <th>0</th>\n",
              "      <td>16332</td>\n",
              "      <td>11914</td>\n",
              "    </tr>\n",
              "    <tr>\n",
              "      <th>1</th>\n",
              "      <td>1648</td>\n",
              "      <td>2040</td>\n",
              "    </tr>\n",
              "  </tbody>\n",
              "</table>\n",
              "</div>\n",
              "      <button class=\"colab-df-convert\" onclick=\"convertToInteractive('df-798ad0a6-0d73-4243-a645-dc552d83959b')\"\n",
              "              title=\"Convert this dataframe to an interactive table.\"\n",
              "              style=\"display:none;\">\n",
              "        \n",
              "  <svg xmlns=\"http://www.w3.org/2000/svg\" height=\"24px\"viewBox=\"0 0 24 24\"\n",
              "       width=\"24px\">\n",
              "    <path d=\"M0 0h24v24H0V0z\" fill=\"none\"/>\n",
              "    <path d=\"M18.56 5.44l.94 2.06.94-2.06 2.06-.94-2.06-.94-.94-2.06-.94 2.06-2.06.94zm-11 1L8.5 8.5l.94-2.06 2.06-.94-2.06-.94L8.5 2.5l-.94 2.06-2.06.94zm10 10l.94 2.06.94-2.06 2.06-.94-2.06-.94-.94-2.06-.94 2.06-2.06.94z\"/><path d=\"M17.41 7.96l-1.37-1.37c-.4-.4-.92-.59-1.43-.59-.52 0-1.04.2-1.43.59L10.3 9.45l-7.72 7.72c-.78.78-.78 2.05 0 2.83L4 21.41c.39.39.9.59 1.41.59.51 0 1.02-.2 1.41-.59l7.78-7.78 2.81-2.81c.8-.78.8-2.07 0-2.86zM5.41 20L4 18.59l7.72-7.72 1.47 1.35L5.41 20z\"/>\n",
              "  </svg>\n",
              "      </button>\n",
              "      \n",
              "  <style>\n",
              "    .colab-df-container {\n",
              "      display:flex;\n",
              "      flex-wrap:wrap;\n",
              "      gap: 12px;\n",
              "    }\n",
              "\n",
              "    .colab-df-convert {\n",
              "      background-color: #E8F0FE;\n",
              "      border: none;\n",
              "      border-radius: 50%;\n",
              "      cursor: pointer;\n",
              "      display: none;\n",
              "      fill: #1967D2;\n",
              "      height: 32px;\n",
              "      padding: 0 0 0 0;\n",
              "      width: 32px;\n",
              "    }\n",
              "\n",
              "    .colab-df-convert:hover {\n",
              "      background-color: #E2EBFA;\n",
              "      box-shadow: 0px 1px 2px rgba(60, 64, 67, 0.3), 0px 1px 3px 1px rgba(60, 64, 67, 0.15);\n",
              "      fill: #174EA6;\n",
              "    }\n",
              "\n",
              "    [theme=dark] .colab-df-convert {\n",
              "      background-color: #3B4455;\n",
              "      fill: #D2E3FC;\n",
              "    }\n",
              "\n",
              "    [theme=dark] .colab-df-convert:hover {\n",
              "      background-color: #434B5C;\n",
              "      box-shadow: 0px 1px 3px 1px rgba(0, 0, 0, 0.15);\n",
              "      filter: drop-shadow(0px 1px 2px rgba(0, 0, 0, 0.3));\n",
              "      fill: #FFFFFF;\n",
              "    }\n",
              "  </style>\n",
              "\n",
              "      <script>\n",
              "        const buttonEl =\n",
              "          document.querySelector('#df-798ad0a6-0d73-4243-a645-dc552d83959b button.colab-df-convert');\n",
              "        buttonEl.style.display =\n",
              "          google.colab.kernel.accessAllowed ? 'block' : 'none';\n",
              "\n",
              "        async function convertToInteractive(key) {\n",
              "          const element = document.querySelector('#df-798ad0a6-0d73-4243-a645-dc552d83959b');\n",
              "          const dataTable =\n",
              "            await google.colab.kernel.invokeFunction('convertToInteractive',\n",
              "                                                     [key], {});\n",
              "          if (!dataTable) return;\n",
              "\n",
              "          const docLinkHtml = 'Like what you see? Visit the ' +\n",
              "            '<a target=\"_blank\" href=https://colab.research.google.com/notebooks/data_table.ipynb>data table notebook</a>'\n",
              "            + ' to learn more about interactive tables.';\n",
              "          element.innerHTML = '';\n",
              "          dataTable['output_type'] = 'display_data';\n",
              "          await google.colab.output.renderOutput(dataTable, element);\n",
              "          const docLink = document.createElement('div');\n",
              "          docLink.innerHTML = docLinkHtml;\n",
              "          element.appendChild(docLink);\n",
              "        }\n",
              "      </script>\n",
              "    </div>\n",
              "  </div>\n",
              "  "
            ]
          },
          "metadata": {},
          "execution_count": 47
        }
      ],
      "source": [
        "# Run this cell without changes\n",
        "contingency_table = pd.crosstab(index=df[\"CHRONIC\"], columns=df[\"NICOTINE_USE\"])\n",
        "contingency_table"
      ]
    },
    {
      "cell_type": "code",
      "execution_count": 48,
      "metadata": {
        "id": "YEC30LCz8OBn",
        "colab": {
          "base_uri": "https://localhost:8080/",
          "height": 452
        },
        "outputId": "fbbab042-616c-4075-b0f8-e5e80d28d294"
      },
      "outputs": [
        {
          "output_type": "display_data",
          "data": {
            "text/plain": [
              "<Figure size 640x480 with 1 Axes>"
            ],
            "image/png": "[encoded data removed]"
          },
          "metadata": {}
        }
      ],
      "source": [
        "# Run this cell without changes\n",
        "\n",
        "no_nicotine_use = df.loc[df[\"NICOTINE_USE\"] == 0, \"CHRONIC\"]\n",
        "nicotine_use = df.loc[df[\"NICOTINE_USE\"] == 1, \"CHRONIC\"]\n",
        "\n",
        "fig, ax = plt.subplots()\n",
        "\n",
        "ax.hist(\n",
        "    x=[no_nicotine_use, nicotine_use],\n",
        "    label=[\"No Nicotine Use\", \"Nicotine Use\"],\n",
        "    bins=[0,1,2],\n",
        "    align=\"left\"\n",
        ")\n",
        "\n",
        "ax.set_ylabel(\"Count\")\n",
        "ax.set_xticks([0,1])\n",
        "ax.set_xticklabels([\"Not Chronically Sick\", \"Chronically Sick\"])\n",
        "ax.set_title(\"Distribution of Chronic Sickness by Nicotine Use\")\n",
        "\n",
        "ax.legend();"
      ]
    },
    {
      "cell_type": "markdown",
      "metadata": {
        "id": "dKzDQdjf8OBn"
      },
      "source": [
        "Once again, it appears that there is a difference in health outcomes between these categories. In the cell below, select an appropriate statistical test, describe the null and alternative hypotheses, execute the test, and interpret the result."
      ]
    },
    {
      "cell_type": "code",
      "source": [
        "# Your code here (create additional cells as needed)\n",
        "# Hypotheses\n",
        "\"\"\"\n",
        "H0: Nicotine users, on average, are not significantly more likely to be chronically sick (or report 15 or more unhealthy days)\n",
        "than those who do not use nicotine.\n",
        "Ha: Nicotine users, on average, are more likely to be chronically sick (or report 15 or more unhealthy days)\n",
        "than those who do not use nicotine.\n",
        "\"\"\""
      ],
      "metadata": {
        "id": "h7IMogfKDSnG"
      },
      "execution_count": null,
      "outputs": []
    },
    {
      "cell_type": "code",
      "source": [
        "# test choice reason\n",
        "\"\"\"\n",
        "I want to compare two samples (nicotine users and non) so I will conduct a two sample t test.\n",
        "It is right-tailed as I am interested in whether there are more chronically sick nicotine users on average.\n",
        "\"\"\""
      ],
      "metadata": {
        "id": "QmaB8sapDeac"
      },
      "execution_count": null,
      "outputs": []
    },
    {
      "cell_type": "code",
      "source": [
        "# run two sample t test for my two independent groups\n",
        "# alternative='greater' is used to perform a right-tailed test\n",
        "t_stat, p_val = stats.ttest_ind(nicotine_use, no_nicotine_use, alternative='greater')\n",
        "\n",
        "print(\"T Statistic = \", t_stat)\n",
        "print(\"P Value = \", p_val)"
      ],
      "metadata": {
        "colab": {
          "base_uri": "https://localhost:8080/"
        },
        "id": "ESgn8SHiEVAE",
        "outputId": "6e6b1fe6-2a97-45ff-df67-7226922ee51c"
      },
      "execution_count": 49,
      "outputs": [
        {
          "output_type": "stream",
          "name": "stdout",
          "text": [
            "T Statistic =  15.178807142427786\n",
            "P Value =  3.707608082217449e-52\n"
          ]
        }
      ]
    },
    {
      "cell_type": "code",
      "execution_count": null,
      "metadata": {
        "id": "5m9KxmvP8OBn"
      },
      "outputs": [],
      "source": [
        "# result meaning\n",
        "\"\"\"\n",
        "Since we already decided the alpha is 0.05\n",
        "(which seems high for a health company, but that is what we have been given),\n",
        "it is very clear that we must reject the null hypothesis.\n",
        "There is a 95% chance that nicotine users will be chronically sick as we have defined it.\n",
        "\n",
        "\"\"\""
      ]
    },
    {
      "cell_type": "markdown",
      "metadata": {
        "id": "fUwScDRu8OBn"
      },
      "source": [
        "## 5. Choose Your Own Question\n",
        "\n",
        "Now that you have investigated physical health and chronic sickness and their relationships with state, home ownership, and nicotine use, you will conduct a similar investigation with variables of your choosing.\n",
        "\n",
        "Select an independent variable based on looking at the information in the data dictionary, and perform any additional transformations needed to use it in an analysis. Then set up, execute, and interpret a statistical test that addresses the relationship between that independent variable and `PHYSHLTH`.\n",
        "\n",
        "(There is no solution branch for this question, and feel free to move on if you have already spent more than 1.5 hours on this lab.)"
      ]
    },
    {
      "cell_type": "markdown",
      "source": [
        "###My own question: is there a statistically significant difference in number of unhealthy days between those who have recently smoked a cigarette within the last year and those who last smoked a year ago or more?\n",
        "Here I define a smoker as somone who has smoked at least 5 packs of cigarettes."
      ],
      "metadata": {
        "id": "o7Gj9m2IGpos"
      }
    },
    {
      "cell_type": "markdown",
      "source": [
        "Create a new column `RECENT_SMOKER` where the value is 1 if the respondent has smoked within the last year, and 0 if their last smoke was at least a year ago.\n",
        "\n",
        "\n"
      ],
      "metadata": {
        "id": "yJn2EGPxHOtW"
      }
    },
    {
      "cell_type": "code",
      "source": [
        "#creating a smokers-only dataframe\n",
        "\n",
        "non_smoker_mask = (\n",
        " (df['SMOKE100'] == 2) |\n",
        " (df['SMOKE100'] == 7 )|\n",
        " (df['SMOKE100'] == 9)\n",
        " )\n",
        "df_smokers = df[~non_smoker_mask]  # Keep only rows where non_smoker_mask is False\n"
      ],
      "metadata": {
        "id": "u_vqoSwmLvy7"
      },
      "execution_count": 58,
      "outputs": []
    },
    {
      "cell_type": "code",
      "source": [
        "# instantiate the new column, with zero as default value\n",
        "df_smokers['RECENT_SMOKER'] = 0\n",
        "\n",
        "# relevant_columns = ['LASTSMK2', 'SMOKE100']\n",
        "# create a mask to select the values from the relevant columns\n",
        "# note: a \"mask\" is a sequence of boolean values used to filter data\n",
        "\n",
        "recent_smoke_mask = (\n",
        "\n",
        "    ((df_smokers['LASTSMK2'] == 1) |\n",
        "    (df_smokers['LASTSMK2'] == 2) |\n",
        "    (df_smokers['LASTSMK2'] == 3) |\n",
        "    (df_smokers['LASTSMK2'] == 4))\n",
        "    & (df_smokers['SMOKE100'] == 1)\n",
        "\n",
        ")\n",
        "\n",
        "# set values to 1 where the condition is true\n",
        "df_smokers.loc[recent_smoke_mask, 'RECENT_SMOKER'] = 1\n",
        "\n",
        "# Look at the distribution of values\n",
        "df_smokers['RECENT_SMOKER'].value_counts(normalize=True)"
      ],
      "metadata": {
        "colab": {
          "base_uri": "https://localhost:8080/"
        },
        "id": "aZsVEL0wMrRq",
        "outputId": "b2b39bad-5f69-4f5b-92d4-dc76728d0e2e"
      },
      "execution_count": 61,
      "outputs": [
        {
          "output_type": "stream",
          "name": "stderr",
          "text": [
            "<ipython-input-61-f689a93dba36>:2: SettingWithCopyWarning: \n",
            "A value is trying to be set on a copy of a slice from a DataFrame.\n",
            "Try using .loc[row_indexer,col_indexer] = value instead\n",
            "\n",
            "See the caveats in the documentation: https://pandas.pydata.org/pandas-docs/stable/user_guide/indexing.html#returning-a-view-versus-a-copy\n",
            "  df_smokers['RECENT_SMOKER'] = 0\n"
          ]
        },
        {
          "output_type": "execute_result",
          "data": {
            "text/plain": [
              "0    0.945449\n",
              "1    0.054551\n",
              "Name: RECENT_SMOKER, dtype: float64"
            ]
          },
          "metadata": {},
          "execution_count": 61
        }
      ]
    },
    {
      "cell_type": "code",
      "source": [
        "recent_smoker = df_smokers.loc[df_smokers['RECENT_SMOKER'] == 1, \"CHRONIC\"]\n",
        "former_smoker = df_smokers.loc[df_smokers['RECENT_SMOKER'] == 0, \"CHRONIC\"]\n",
        "\n",
        "fig, ax = plt.subplots()\n",
        "\n",
        "ax.hist(\n",
        "    x=[recent_smoker, former_smoker],\n",
        "    label=[\"Recent Smoker\", \"Former Smoker\"],\n",
        "    bins=[0,1,2],\n",
        "    align=\"left\"\n",
        ")\n",
        "\n",
        "ax.set_ylabel(\"Count\")\n",
        "ax.set_xticks([0,1])\n",
        "ax.set_xticklabels([\"Not Chronically Sick\", \"Chronically Sick\"])\n",
        "ax.set_title(\"Distribution of Chronic Sickness by Smoking Recency\")\n",
        "\n",
        "ax.legend();"
      ],
      "metadata": {
        "colab": {
          "base_uri": "https://localhost:8080/",
          "height": 452
        },
        "id": "soenC0BxIw6D",
        "outputId": "5c06e3b5-971b-4b02-8ed4-d3cb73c6979d"
      },
      "execution_count": 64,
      "outputs": [
        {
          "output_type": "display_data",
          "data": {
            "text/plain": [
              "<Figure size 640x480 with 1 Axes>"
            ],
            "image/png": "[encoded data removed]"
          },
          "metadata": {}
        }
      ]
    },
    {
      "cell_type": "code",
      "source": [
        "# Your code here (create additional cells as needed)\n",
        "# Hypotheses\n",
        "\"\"\"\n",
        "H0: Former smokers, on average, are not significantly less likely to be chronically sick (or report 15 or more unhealthy days)\n",
        "than those who smoked recently.\n",
        "Ha: Former smokers, on average, are less likely to be chronically sick (or report 15 or more unhealthy days)\n",
        "than those who smoked recently."
      ],
      "metadata": {
        "id": "D9MmcJocNdkZ"
      },
      "execution_count": null,
      "outputs": []
    },
    {
      "cell_type": "code",
      "source": [
        "# run two sample t test for my two independent groups\n",
        "# alternative='less' is used to perform a left-tailed test\n",
        "t_stat, p_val = stats.ttest_ind(recent_smoker, former_smoker, alternative='less')\n",
        "\n",
        "print(\"T Statistic = \", t_stat)\n",
        "print(\"P Value = \", p_val)"
      ],
      "metadata": {
        "colab": {
          "base_uri": "https://localhost:8080/"
        },
        "id": "v7xEuxp4LSi5",
        "outputId": "a930c142-7ecd-4d0d-ba87-7ded7236dce0"
      },
      "execution_count": 66,
      "outputs": [
        {
          "output_type": "stream",
          "name": "stdout",
          "text": [
            "T Statistic =  0.21892362541184593\n",
            "P Value =  0.5866436561760635\n"
          ]
        }
      ]
    },
    {
      "cell_type": "code",
      "source": [
        "# result meaning\n",
        "\"\"\"\n",
        "We fail to reject the null! This p value is quite high. So we cannot say that former smokers are less likely to\n",
        "be chronically sick.\n",
        "\n",
        "I wonder if the sample size was/is large enough and/or if other variable definitions should be applied.\n",
        "Perhaps we need to look at people who have smoked for longer. 5 packs of cigarettes is not that many.\n",
        "I would think that this is perhaps too wide a range when it comes to defining a smoker.\n",
        "It would also be interesting to plot out several independent groups based on more granular filtering by smoker\n",
        "category.\n",
        "\"\"\""
      ],
      "metadata": {
        "id": "irGbFBVkPNNs"
      },
      "execution_count": null,
      "outputs": []
    },
    {
      "cell_type": "code",
      "source": [
        "# one last graph!\n",
        "\n",
        "recent_smoker = df_smokers.loc[df_smokers['RECENT_SMOKER'] == 1, \"PHYSHLTH\"]\n",
        "former_smoker = df_smokers.loc[df_smokers['RECENT_SMOKER'] == 0, \"PHYSHLTH\"]\n",
        "\n",
        "\n",
        "\n",
        "fig, ax = plt.subplots(figsize=(15, 6))\n",
        "\n",
        "ax.hist(\n",
        "    x=[recent_smoker, former_smoker],\n",
        "    label=[\"recent smoker\", \"former smoker\"],\n",
        "    bins=range(32),\n",
        "    align=\"left\",\n",
        "    density=True\n",
        ")\n",
        "\n",
        "ax.set_xlabel(\"PHYSHLTH\")\n",
        "ax.set_ylabel(\"Density\")\n",
        "ax.set_title(\"Distribution of PHYSHLTH by Smoking Recency\")\n",
        "\n",
        "ax.legend(title=\"Smoker Status\");"
      ],
      "metadata": {
        "colab": {
          "base_uri": "https://localhost:8080/",
          "height": 456
        },
        "id": "Tcp9bCbwPZr-",
        "outputId": "3b6e6512-e102-4bca-aba1-12d27c39bd6d"
      },
      "execution_count": 69,
      "outputs": [
        {
          "output_type": "display_data",
          "data": {
            "text/plain": [
              "<Figure size 1500x600 with 1 Axes>"
            ],
            "image/png": "[encoded data removed]"
          },
          "metadata": {}
        }
      ]
    },
    {
      "cell_type": "code",
      "execution_count": null,
      "metadata": {
        "id": "h4NlyjeW8OBn"
      },
      "outputs": [],
      "source": [
        "# Your code here (create additional cells as needed)\n",
        "\"\"\"\n",
        "I have already spent over 90 minutes on this lab so I will leave the rest of this for another day!\n",
        "\"\"\""
      ]
    },
    {
      "cell_type": "markdown",
      "metadata": {
        "id": "SAn7qmFT8OBn"
      },
      "source": [
        "## Conclusion\n",
        "\n",
        "Congratulations, another cumulative lab down! In this lab you practiced reading a data dictionary, performing various data transformations with pandas, and executing statistical tests to address business questions."
      ]
    }
  ],
  "metadata": {
    "kernelspec": {
      "display_name": "Python (learn-env)",
      "language": "python",
      "name": "learn-env"
    },
    "language_info": {
      "codemirror_mode": {
        "name": "ipython",
        "version": 3
      },
      "file_extension": ".py",
      "mimetype": "text/x-python",
      "name": "python",
      "nbconvert_exporter": "python",
      "pygments_lexer": "ipython3",
      "version": "3.8.5"
    },
    "colab": {
      "provenance": []
    }
  },
  "nbformat": 4,
  "nbformat_minor": 0
}